{
 "cells": [
  {
   "attachments": {},
   "cell_type": "markdown",
   "metadata": {},
   "source": [
    "# Langchain based index to realize custom knowledge gpt\n",
    "\n",
    "## install libraries"
   ]
  },
  {
   "cell_type": "code",
   "execution_count": null,
   "metadata": {
    "tags": []
   },
   "outputs": [],
   "source": [
    "%pip install langchain \"langchain[llms]\"\n",
    "%pip install gpt4all\n",
    "%pip install chromadb\n",
    "%pip install llama_index\n",
    "%pip install git+https://github.com/selamanse/llama-hub.git@add_extra_info_to_web\n",
    "%CMAKE_ARGS=\"-DLLAMA_METAL=1\" FORCE_CMAKE=1 pip install llama-cpp-python --force-reinstall\n",
    "#%pip install llama-cpp-python --force-reinstall --upgrade --no-cache-dir\n",
    "%pip install git+https://github.com/selamanse/llama-hub.git@add_extra_info_to_web\n"
   ]
  },
  {
   "attachments": {},
   "cell_type": "markdown",
   "metadata": {},
   "source": [
    "# Load data from deepshore website as document base for the index"
   ]
  },
  {
   "cell_type": "code",
   "execution_count": null,
   "metadata": {
    "tags": []
   },
   "outputs": [],
   "source": [
    "import os\n",
    "import sys\n",
    "print(os.path.dirname(sys.executable))\n",
    "print(os.getcwd())\n",
    "\n",
    "!python --version"
   ]
  },
  {
   "attachments": {},
   "cell_type": "markdown",
   "metadata": {},
   "source": [
    "# running llama-cpp binding with openai like webservice\n",
    "\n",
    "Download model from [hugging face](https://huggingface.co/TheBloke/open-llama-7b-open-instruct-GGML)\n",
    "\n",
    "```\n",
    "pip install llama-cpp-python[server]\n",
    "export MODEL=models/open-llama-7B-open-instruct.ggmlv3.q6_K.bin\n",
    "python3 -m llama_cpp.server --model $MODEL --n_gpu_layers 1\n",
    "```"
   ]
  },
  {
   "cell_type": "code",
   "execution_count": null,
   "metadata": {},
   "outputs": [],
   "source": [
    "from llama_hub.web.sitemap.base import SitemapReader\n",
    "\n",
    "# for jupyter notebooks uncomment the following two lines of code:\n",
    "import nest_asyncio\n",
    "nest_asyncio.apply()\n",
    "\n",
    "loader = SitemapReader(html_to_text=True)\n",
    "documents = loader.load_data(sitemap_url='https://deepshore.de/sitemap.xml', filter='https://deepshore.de/knowledge')\n",
    "\n",
    "documents = [documents.pop()]\n",
    "print(len(documents))\n",
    "print(documents[0].extra_info)"
   ]
  },
  {
   "attachments": {},
   "cell_type": "markdown",
   "metadata": {},
   "source": [
    "# load the desired model via langchain llm bindings\n",
    "\n",
    "- for gpt4all binding you need to install the corresponding package (imho uses metal out of the box)\n",
    "- for llama-cpp-python on M1 miniforge (conda) environment is needed to build the arm compatible version of cpp bindings (uses only cpu out of the box)"
   ]
  },
  {
   "cell_type": "code",
   "execution_count": null,
   "metadata": {},
   "outputs": [],
   "source": [
    "import os\n",
    "from langchain.llms import GPT4All\n",
    "#from gpt4all import GPT4All\n",
    "from langchain.llms import LlamaCpp\n",
    "from langchain.callbacks.streaming_stdout import StreamingStdOutCallbackHandler\n",
    "from langchain.callbacks.manager import CallbackManager\n",
    "\n",
    "callbacks = [StreamingStdOutCallbackHandler()]\n",
    "callback_manager = CallbackManager(callbacks)\n",
    "\n",
    "local_path = \"/Users/selamanse/Library/Application Support/nomic.ai/GPT4All\"\n",
    "\n",
    "\n",
    "model_name = f\"{os.getcwd()}/models/ggml-vicuna-13b-1.1-q4_2.bin\"\n",
    "model_name = f\"{os.getcwd()}/models/ggml-gpt4all-l13b-snoozy.bin\"\n",
    "#model_name = f\"{os.getcwd()}/models/ggml-gpt4all-j-v1.3-groovy.bin\"\n",
    "#model_name = f\"{os.getcwd()}/models/GPT4All-13B-snoozy.ggmlv3.q4_0.bin\"\n",
    "#model_name = f\"{os.getcwd()}/models/open-llama-7B-open-instruct.ggmlv3.q4_0.bin\"\n",
    "model_name = f\"{os.getcwd()}/models/open-llama-7B-open-instruct.ggmlv3.q6_K.bin\"\n",
    "#model_name = f\"{local_path}/ggml-gpt4all-l13b-snoozy\"\n",
    "\n",
    "llm = LlamaCpp(model_path=model_name, callback_manager=callback_manager, verbose=True, use_mlock=False, n_gpu_layers=10000)\n",
    "\n",
    "#llm = GPT4All(model=\"./models/ggml-gpt4all-l13b-snoozy\", backend=\"gptj\", callbacks=callbacks, verbose=True, n_ctx=2047, use_mlock=True, n_threads=8, f16_kv=False)\n",
    "#llm = GPT4All(model_path=f\"{os.getcwd()}/models\", allow_download=False, model_name=\"ggml-gpt4all-j-v1.3-groovy.bin\")\n"
   ]
  },
  {
   "attachments": {},
   "cell_type": "markdown",
   "metadata": {},
   "source": [
    "# load documents into a vector store"
   ]
  },
  {
   "cell_type": "code",
   "execution_count": null,
   "metadata": {},
   "outputs": [],
   "source": [
    "# import\n",
    "from langchain.embeddings.llamacpp import LlamaCppEmbeddings\n",
    "from langchain.text_splitter import CharacterTextSplitter\n",
    "from langchain.vectorstores import Chroma\n",
    "from llama_index.schema import Document\n",
    "\n",
    "langchain_documents = []\n",
    "for d in documents:\n",
    "    langchain_documents.append(d.to_langchain_format())\n",
    "\n",
    "# split it into chunks\n",
    "text_splitter = CharacterTextSplitter(chunk_size=1000, chunk_overlap=0)\n",
    "docs = text_splitter.split_documents(langchain_documents)\n",
    "\n",
    "# create the open-source embedding function\n",
    "embedding_function = LlamaCppEmbeddings(model_path=model_name, use_mlock=True, n_gpu_layers=1000, n_threads=8, n_ctx=2048, n_batch=500)\n",
    "\n",
    "# load it into Chroma\n",
    "db = Chroma.from_documents(docs, embedding_function)\n",
    "\n",
    "# query it\n",
    "query = \"What did the president say about Ketanji Brown Jackson\"\n",
    "docs = db.similarity_search(query)\n",
    "\n",
    "# print results\n",
    "print(docs[0].page_content)"
   ]
  },
  {
   "attachments": {},
   "cell_type": "markdown",
   "metadata": {},
   "source": [
    "# with llamacpp embeddings (not for ggml models from gpt4all)"
   ]
  },
  {
   "attachments": {},
   "cell_type": "markdown",
   "metadata": {},
   "source": [
    "# load chroma db from disk"
   ]
  },
  {
   "attachments": {},
   "cell_type": "markdown",
   "metadata": {},
   "source": [
    "# make a retriever\n",
    "\n",
    "https://colab.research.google.com/drive/1gyGZn_LZNrYXYXa-pltFExbptIe7DAPe?usp=sharing#scrollTo=MGx8XblM4shW\n",
    "\n"
   ]
  },
  {
   "attachments": {},
   "cell_type": "markdown",
   "metadata": {},
   "source": [
    "## make a chain retrieval "
   ]
  },
  {
   "attachments": {},
   "cell_type": "markdown",
   "metadata": {},
   "source": [
    "## Create Index from Documents"
   ]
  },
  {
   "attachments": {},
   "cell_type": "markdown",
   "metadata": {},
   "source": [
    "## load index from storage"
   ]
  },
  {
   "attachments": {},
   "cell_type": "markdown",
   "metadata": {},
   "source": [
    "## persist index to storage"
   ]
  },
  {
   "attachments": {},
   "cell_type": "markdown",
   "metadata": {},
   "source": [
    "## query index"
   ]
  }
 ],
 "metadata": {
  "kernelspec": {
   "display_name": "Python 3 (ipykernel)",
   "language": "python",
   "name": "python3"
  },
  "language_info": {
   "codemirror_mode": {
    "name": "ipython",
    "version": 3
   },
   "file_extension": ".py",
   "mimetype": "text/x-python",
   "name": "python",
   "nbconvert_exporter": "python",
   "pygments_lexer": "ipython3",
   "version": "3.10.12"
  }
 },
 "nbformat": 4,
 "nbformat_minor": 4
}
