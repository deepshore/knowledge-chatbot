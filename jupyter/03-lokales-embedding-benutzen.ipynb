{
 "cells": [
  {
   "attachments": {},
   "cell_type": "markdown",
   "metadata": {},
   "source": [
    "# Lokales Embedding benutzen\n",
    "\n",
    "Dieses Notebook führt dich durch folgende Schritte:\n",
    "\n",
    "- Installation der benötigten Pakete.\n",
    "- Benutzen des Sitemap Loaders um die deepshore.de nach Wissensbeiträgen zu durchkämmen.\n",
    "- Die Dokumente an ein *lokales* Embeddings Modell schicken und in Vectoren verwandeln und im Index speichern.\n",
    "- Eine Frage an das *lokale* Embeddings Modell schicken und die neu gewonnenen Vectoren zusammen mit den indexierten Vectoren verorten und eine Antwort bekommen\n",
    "\n",
    "\n",
    "Du benötigst:\n",
    "\n",
    "- python 3.10\n",
    "- Jupyter Notebook Server\n",
    "- Einen OpenAI API Token\n",
    "\n",
    "# Installation"
   ]
  },
  {
   "cell_type": "code",
   "execution_count": null,
   "metadata": {
    "tags": []
   },
   "outputs": [],
   "source": [
    "%pip install langchain==\"0.0.222\"\n",
    "%pip install \"langchain[llms]\"==\"0.0.222\"\n",
    "%pip install gpt4all==\"0.3.5\"\n",
    "%pip install chromadb==\"0.3.26\"\n",
    "%pip install llama_index==\"0.6.38\"\n",
    "%pip install llama_hub==\"0.0.5\"\n",
    "%CMAKE_ARGS=\"-DLLAMA_METAL=1\" FORCE_CMAKE=1 pip install llama-cpp-python --force-reinstall"
   ]
  },
  {
   "attachments": {},
   "cell_type": "markdown",
   "metadata": {},
   "source": []
  },
  {
   "cell_type": "code",
   "execution_count": null,
   "metadata": {
    "tags": []
   },
   "outputs": [],
   "source": [
    "import os\n",
    "import sys\n",
    "print(os.path.dirname(sys.executable))\n",
    "print(os.getcwd())\n",
    "\n",
    "!python --version"
   ]
  },
  {
   "attachments": {},
   "cell_type": "markdown",
   "metadata": {},
   "source": [
    "## Dokumente laden\n",
    "\n",
    "... indem man den Sitemap Loaders benutzt, um die Webseite deepshore.de nach Wissensbeiträgen zu durchkämmen"
   ]
  },
  {
   "cell_type": "code",
   "execution_count": null,
   "metadata": {},
   "outputs": [],
   "source": [
    "from llama_hub.web.sitemap.base import SitemapReader\n",
    "\n",
    "import nest_asyncio\n",
    "nest_asyncio.apply()\n",
    "\n",
    "loader = SitemapReader(html_to_text=True)\n",
    "documents = loader.load_data(sitemap_url='https://deepshore.de/sitemap.xml', filter='https://deepshore.de/knowledge')\n",
    "\n",
    "print(len(documents))"
   ]
  },
  {
   "attachments": {},
   "cell_type": "markdown",
   "metadata": {},
   "source": [
    "# Model laden\n",
    "\n",
    "Folgendes modell wurde hier heruntergeladen: [hugging face](https://huggingface.co/TheBloke/open-llama-7b-open-instruct-GGML)"
   ]
  },
  {
   "cell_type": "code",
   "execution_count": null,
   "metadata": {},
   "outputs": [],
   "source": [
    "import os\n",
    "from langchain.llms import LlamaCpp\n",
    "from langchain.callbacks.streaming_stdout import StreamingStdOutCallbackHandler\n",
    "from langchain.callbacks.manager import CallbackManager\n",
    "\n",
    "callbacks = [StreamingStdOutCallbackHandler()]\n",
    "callback_manager = CallbackManager(callbacks)\n",
    "\n",
    "model_name = f\"{os.getcwd()}/models/open-llama-7B-open-instruct.ggmlv3.q6_K.bin\"\n",
    "\n",
    "llm = LlamaCpp(model_path=model_name, callback_manager=callback_manager, verbose=True, use_mlock=False, n_gpu_layers=10000)"
   ]
  },
  {
   "attachments": {},
   "cell_type": "markdown",
   "metadata": {},
   "source": [
    "## Die Dokumente an das lokale Embeddings Modell schicken\n",
    "\n",
    "...und in Vektoren verwandeln und im Index speichern "
   ]
  },
  {
   "cell_type": "code",
   "execution_count": null,
   "metadata": {},
   "outputs": [],
   "source": [
    "# import\n",
    "from langchain.embeddings.llamacpp import LlamaCppEmbeddings\n",
    "from langchain.text_splitter import CharacterTextSplitter\n",
    "from langchain.vectorstores import Chroma\n",
    "from llama_index.schema import Document\n",
    "\n",
    "langchain_documents = []\n",
    "for d in documents:\n",
    "    langchain_documents.append(d.to_langchain_format())\n",
    "\n",
    "# split it into chunks\n",
    "text_splitter = CharacterTextSplitter(chunk_size=1000, chunk_overlap=0)\n",
    "docs = text_splitter.split_documents(langchain_documents)\n",
    "\n",
    "# create the open-source embedding function\n",
    "embedding_function = LlamaCppEmbeddings(model_path=model_name, use_mlock=True, n_gpu_layers=1000, n_threads=8, n_ctx=2048, n_batch=500)\n",
    "\n",
    "# load it into Chroma\n",
    "db = Chroma.from_documents(docs, embedding_function)\n"
   ]
  },
  {
   "attachments": {},
   "cell_type": "markdown",
   "metadata": {},
   "source": [
    "## Eine Frage an das Modell schicken\n",
    "\n",
    "... und eine Antwort im Kontext der Daten bekommen"
   ]
  }
 ],
 "metadata": {
  "kernelspec": {
   "display_name": "Python 3 (ipykernel)",
   "language": "python",
   "name": "python3"
  },
  "language_info": {
   "codemirror_mode": {
    "name": "ipython",
    "version": 3
   },
   "file_extension": ".py",
   "mimetype": "text/x-python",
   "name": "python",
   "nbconvert_exporter": "python",
   "pygments_lexer": "ipython3",
   "version": "3.10.12"
  }
 },
 "nbformat": 4,
 "nbformat_minor": 4
}
