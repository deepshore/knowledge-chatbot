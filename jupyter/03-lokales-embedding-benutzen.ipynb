{
 "cells": [
  {
   "attachments": {},
   "cell_type": "markdown",
   "metadata": {},
   "source": [
    "# Lokales Embedding benutzen\n",
    "\n",
    "Dieses Notebook führt dich durch folgende Schritte:\n",
    "\n",
    "- Installation der benötigten Pakete.\n",
    "- Benutzen des Sitemap Loaders um die deepshore.de nach Wissensbeiträgen zu durchkämmen.\n",
    "- Die Dokumente an ein *lokales* Embeddings Modell schicken und in Vectoren verwandeln und im Index speichern.\n",
    "- Eine Frage an das *lokale* Embeddings Modell schicken und die neu gewonnenen Vectoren zusammen mit den indexierten Vectoren verorten und eine Antwort bekommen\n",
    "\n",
    "\n",
    "Du benötigst:\n",
    "\n",
    "- python 3.10\n",
    "- Jupyter Notebook Server\n",
    "- Einen OpenAI API Token\n",
    "\n",
    "# Installation"
   ]
  },
  {
   "cell_type": "code",
   "execution_count": null,
   "metadata": {
    "tags": []
   },
   "outputs": [],
   "source": [
    "#%pip install langchain==\"0.0.279\"\n",
    "#%pip install \"langchain[llms]\"==\"0.0.279\"\n",
    "#%pip install gpt4all==\"0.3.5\"\n",
    "#%pip install chromadb==\"0.3.26\"\n",
    "#%pip install llama_index==\"0.8.17\"\n",
    "#%pip install llama_hub==\"0.0.26\"\n",
    "#!CMAKE_ARGS=\"-DLLAMA_METAL=on\" FORCE_CMAKE=1 pip install llama-cpp-python==\"0.1.78\" --upgrade --no-cache-dir --force-reinstall\n",
    "#%pip install mercury==\"2.3.4\"\n",
    "#%pip install sentence_transformers"
   ]
  },
  {
   "attachments": {},
   "cell_type": "markdown",
   "metadata": {},
   "source": []
  },
  {
   "cell_type": "code",
   "execution_count": null,
   "metadata": {
    "tags": []
   },
   "outputs": [],
   "source": [
    "import os\n",
    "import sys\n",
    "print(os.path.dirname(sys.executable))\n",
    "print(os.getcwd())\n",
    "\n",
    "!python --version"
   ]
  },
  {
   "attachments": {},
   "cell_type": "markdown",
   "metadata": {},
   "source": [
    "## Dokumente laden\n",
    "\n",
    "... indem man den Sitemap Loaders benutzt, um die Webseite deepshore.de nach Wissensbeiträgen zu durchkämmen"
   ]
  },
  {
   "cell_type": "code",
   "execution_count": null,
   "metadata": {},
   "outputs": [],
   "source": [
    "from llama_hub.web.sitemap.base import SitemapReader\n",
    "\n",
    "import nest_asyncio\n",
    "nest_asyncio.apply()\n",
    "\n",
    "loader = SitemapReader(html_to_text=True)\n",
    "documents = loader.load_data(sitemap_url='https://deepshore.de/sitemap.xml', filter='https://deepshore.de/en/knowledge/2023-05-08')\n",
    "\n",
    "print(len(documents))"
   ]
  },
  {
   "attachments": {},
   "cell_type": "markdown",
   "metadata": {},
   "source": [
    "# Model laden\n",
    "\n",
    "Folgendes modell wurde hier heruntergeladen: [hugging face](https://huggingface.co/TheBloke/open-llama-7b-open-instruct-GGML)"
   ]
  },
  {
   "cell_type": "code",
   "execution_count": null,
   "metadata": {},
   "outputs": [],
   "source": [
    "import os\n",
    "from langchain.llms import LlamaCpp\n",
    "from langchain.callbacks.streaming_stdout import StreamingStdOutCallbackHandler\n",
    "from langchain.callbacks.manager import CallbackManager\n",
    "from llama_cpp import Llama\n",
    "\n",
    "callbacks = [StreamingStdOutCallbackHandler()]\n",
    "callback_manager = CallbackManager(callbacks)\n",
    "\n",
    "model_name = f\"{os.getcwd()}/models/llama-2-7b-chat.ggmlv3.q2_K.bin\"\n",
    "\n",
    "#llama_llm = Llama(model_path=model_name)\n",
    "#llama_llm = LlamaCpp(model_path=model_name, callback_manager=callback_manager, verbose=True, use_mlock=True, n_gpu_layers=1000, n_ctx=2048)\n",
    "llama_llm = LlamaCpp(model_path=model_name, callback_manager=callback_manager, use_mlock=True, n_threads=2, n_gpu_layers=32, temperature=0.25, verbose=True, n_ctx=2048)\n",
    "\n",
    "prompt = \"\"\"\n",
    "Question: Who is the 42nd president of the united states?\n",
    "\"\"\"\n",
    "llama_llm(prompt)"
   ]
  },
  {
   "attachments": {},
   "cell_type": "markdown",
   "metadata": {},
   "source": [
    "## Die Dokumente an das lokale Embeddings Modell schicken\n",
    "\n",
    "...und in Vektoren verwandeln und im Index speichern "
   ]
  },
  {
   "cell_type": "code",
   "execution_count": null,
   "metadata": {},
   "outputs": [],
   "source": [
    "from langchain.vectorstores import Chroma\n",
    "from llama_index.schema import Document\n",
    "from langchain.embeddings.openai import OpenAIEmbeddings\n",
    "import chromadb\n",
    "from chromadb.config import Settings\n",
    "from langchain.vectorstores import Chroma\n",
    "\n",
    "# import\n",
    "from langchain.embeddings.llamacpp import LlamaCppEmbeddings\n",
    "from langchain.text_splitter import CharacterTextSplitter,RecursiveCharacterTextSplitter\n",
    "from langchain.vectorstores import Chroma\n",
    "from llama_index.schema import Document\n",
    "from llama_index.indices.service_context import ServiceContext\n",
    "\n",
    "langchain_documents = []\n",
    "for d in documents:\n",
    "    langchain_documents.append(d.to_langchain_format())\n",
    "\n",
    "# split it into chunks\n",
    "text_splitter = RecursiveCharacterTextSplitter(chunk_size=500, chunk_overlap=50)\n",
    "docs = text_splitter.split_documents(langchain_documents)\n",
    "\n",
    "llama_documents = []\n",
    "for langchain_doc in docs:\n",
    "    llama_documents.append(Document.from_langchain_format(langchain_doc))\n",
    "\n",
    "# do not split\n",
    "#docs = langchain_documents\n",
    "\n",
    "# create the open-source embedding function\n",
    "#embedding_function = LlamaCppEmbeddings(model_path=model_name, n_ctx=2048, use_mlock=True, n_gpu_layers=32, n_threads=2)\n",
    "\n",
    "#https://docs.trychroma.com/telemetry#opting-out\n",
    "chromadb_settings = Settings(anonymized_telemetry=False, persist_directory=\"./chroma\", chroma_db_impl=\"duckdb+parquet\")\n",
    "chromadb_client = chromadb.Client(chromadb_settings)\n",
    "#chroma = Chroma(collection_name='deepshore-sitemap', client=chromadb_client, embedding_function=embedding_function)\n",
    "chroma = Chroma(collection_name='deepshore-sitemap', client=chromadb_client)\n",
    "\n",
    "chroma_collection= chromadb_client.get_collection(name='deepshore-sitemap')\n",
    "#vectordb = chroma.from_documents(docs, embedding_function, collection_name='deepshore-sitemap', client_settings=chromadb_settings, persist_directory=\"./chroma\")\n",
    "\n",
    "#vectordb.persist()\n",
    "\n",
    "\n"
   ]
  },
  {
   "cell_type": "code",
   "execution_count": 47,
   "metadata": {},
   "outputs": [],
   "source": [
    "from llama_index import VectorStoreIndex, SimpleDirectoryReader, ServiceContext, StorageContext\n",
    "from llama_index.embeddings import LangchainEmbedding\n",
    "from langchain.embeddings.huggingface import HuggingFaceEmbeddings\n",
    "from langchain.embeddings.llamacpp import LlamaCppEmbeddings\n",
    "from llama_index.llm_predictor.base import LLMPredictor\n",
    "from llama_index.vector_stores import ChromaVectorStore\n",
    "from llama_index.vector_stores.types import VectorStoreQuery, VectorStoreQueryResult\n",
    "from llama_cpp import Embedding\n",
    "\n",
    "LlamaArgs = {\n",
    "    \"model_path\": model_name\n",
    "}\n",
    "\n",
    "\n",
    "#llm = LlamaCpp(model_path=model_name, callback_manager=callback_manager, verbose=True, use_mlock=False, n_gpu_layers=2000)\n",
    "#embedding =  LangchainEmbedding(\n",
    "#    Embedding(model=model_name)\n",
    "#)\n",
    "\n",
    "embedding = LlamaCppEmbeddings(model_path=model_name, n_ctx=2048, use_mlock=False, n_gpu_layers=0, n_threads=8)\n",
    "llmpredictor = LLMPredictor(llm = llama_llm)\n",
    "\n",
    "chromastore = ChromaVectorStore(chroma_collection=chroma_collection)\n",
    "\n",
    "storage_context = StorageContext.from_defaults(vector_store=chromastore)\n",
    "service_context = ServiceContext.from_defaults(llm_predictor=llmpredictor, embed_model=embedding)\n",
    "index = VectorStoreIndex.from_vector_store(vector_store=chromastore, service_context=service_context)\n",
    "\n",
    "index = VectorStoreIndex.from_documents(\n",
    "    documents, storage_context=storage_context, service_context=service_context\n",
    ")\n"
   ]
  },
  {
   "attachments": {},
   "cell_type": "markdown",
   "metadata": {},
   "source": [
    "## Eine Frage an das Modell schicken\n",
    "\n",
    "... und eine Antwort im Kontext der Daten bekommen"
   ]
  },
  {
   "cell_type": "code",
   "execution_count": null,
   "metadata": {},
   "outputs": [],
   "source": [
    "import textwrap\n",
    "import mercury as mr\n",
    " \n",
    "# set Application parameters\n",
    "app = mr.App(title=\"\",\n",
    "        description=\"\",\n",
    "        show_code=False,\n",
    "        show_prompt=False,\n",
    "        continuous_update=True,\n",
    "        static_notebook=False,\n",
    "        show_sidebar=True,\n",
    "        full_screen=True,\n",
    "        allow_download=True)\n",
    "\n",
    "question = mr.Text(value=\"Was ist k6?\", label=\"Womit kann Deepshore helfen?\", rows=1)\n",
    "\n",
    "query_engine = index.as_query_engine()\n",
    "\n",
    "response = query_engine.query(question.value)\n",
    "\n",
    "messages = [question.value, \"\\n\".join(textwrap.wrap(response.response,29))]\n",
    "mr.Chat(messages)"
   ]
  },
  {
   "cell_type": "code",
   "execution_count": null,
   "metadata": {},
   "outputs": [],
   "source": [
    "response = query_engine.query(\"What is the conclusion of the article?\")"
   ]
  }
 ],
 "metadata": {
  "kernelspec": {
   "display_name": "Python 3 (ipykernel)",
   "language": "python",
   "name": "python3"
  },
  "language_info": {
   "codemirror_mode": {
    "name": "ipython",
    "version": 3
   },
   "file_extension": ".py",
   "mimetype": "text/x-python",
   "name": "python",
   "nbconvert_exporter": "python",
   "pygments_lexer": "ipython3",
   "version": "3.10.12"
  }
 },
 "nbformat": 4,
 "nbformat_minor": 4
}
