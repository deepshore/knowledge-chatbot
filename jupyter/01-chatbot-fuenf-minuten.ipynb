{
 "cells": [
  {
   "attachments": {},
   "cell_type": "markdown",
   "metadata": {},
   "source": [
    "# Ein KI-Chatbot in 5 Minuten\n",
    "\n",
    "Dieses Notebook führt dich durch folgende Schritte:\n",
    "\n",
    "- Installation der benötigten Pakete\n",
    "- Benutzen des Sitemap Loaders um die deepshore.de nach Wissensbeiträgen zu durchkämmen\n",
    "- Die Dokumente an ein Embeddings Modell schicken und in Vectoren verwandeln und im Index speichern \n",
    "- Eine Frage an das Embeddings Modell schicken und die neu gewonnenen Vectoren zusammen mit den indexierten Vectoren verorten und eine Antwort bekommen\n",
    "\n",
    "Du benötigst:\n",
    "\n",
    "- python 3.10\n",
    "- Jupyter Notebook Server\n",
    "- Einen OpenAI API Token\n",
    "\n",
    "\n",
    "## Installation"
   ]
  },
  {
   "cell_type": "code",
   "execution_count": null,
   "metadata": {},
   "outputs": [],
   "source": [
    "%pip install llama_index==\"0.6.38\"\n",
    "%pip install llama_hub==\"0.0.5\"\n",
    "%pip install mercury==\"2.3.4\"\n",
    "\n",
    "import mercury as mr\n",
    " \n",
    "# set Application parameters\n",
    "app = mr.App(title=\"\",\n",
    "        description=\"\",\n",
    "        show_code=False,\n",
    "        show_prompt=False,\n",
    "        continuous_update=True,\n",
    "        static_notebook=False,\n",
    "        show_sidebar=True,\n",
    "        full_screen=True,\n",
    "        allow_download=True)"
   ]
  },
  {
   "attachments": {},
   "cell_type": "markdown",
   "metadata": {},
   "source": [
    "## Open AI Konfiguration\n",
    "\n",
    "### warum openai?\n",
    "\n",
    "[llama_index](https://github.com/jerryjliu/llama_index) und anad llm-app-frameworks benutzen meist als Standard die openai high-level api für embeddings (vektorisierung von daten).\n",
    "\n",
    "![](images/chatbot_graph-white-bg-v3.png)"
   ]
  },
  {
   "cell_type": "code",
   "execution_count": null,
   "metadata": {},
   "outputs": [],
   "source": [
    "import os\n",
    "import logging\n",
    "import sys\n",
    "import getpass\n",
    "\n",
    "logging.basicConfig(stream=sys.stdout, level=logging.INFO)\n",
    "logging.getLogger().addHandler(logging.StreamHandler(stream=sys.stdout))\n",
    "\n",
    "os.environ[\"OPENAI_API_KEY\"] = getpass.getpass(\"OpenAI API Key:\")"
   ]
  },
  {
   "attachments": {},
   "cell_type": "markdown",
   "metadata": {},
   "source": [
    "## Dokumente laden\n",
    "\n",
    "... indem man den Sitemap Loaders benutzt, um die Webseite deepshore.de nach Wissensbeiträgen zu durchkämmen"
   ]
  },
  {
   "cell_type": "code",
   "execution_count": null,
   "metadata": {},
   "outputs": [],
   "source": [
    "from llama_hub.web.sitemap.base import SitemapReader\n",
    "\n",
    "import nest_asyncio\n",
    "nest_asyncio.apply()\n",
    "\n",
    "loader = SitemapReader(html_to_text=True)\n",
    "documents = loader.load_data(sitemap_url='https://deepshore.de/sitemap.xml', filter='https://deepshore.de/knowledge')\n",
    "\n",
    "print(len(documents))"
   ]
  },
  {
   "attachments": {},
   "cell_type": "markdown",
   "metadata": {},
   "source": [
    "## Die Dokumente an ein Embeddings Modell schicken\n",
    "\n",
    "...und in Vektoren verwandeln und im Index speichern \n",
    "\n",
    "### warum vektor index?\n",
    "ein vector index speichert/indexiert vektordaten für eine schnellere abfrage oder filterung (similarity search) von Daten, die sonst jedes mal gegen das ursprüngliche Modell gesendet werden müssen.\n",
    "   \n",
    "![](images/how-does-vector-store-work.png)"
   ]
  },
  {
   "cell_type": "code",
   "execution_count": null,
   "metadata": {},
   "outputs": [],
   "source": [
    "from llama_index import VectorStoreIndex\n",
    "\n",
    "index = VectorStoreIndex.from_documents(documents)\n",
    "index.storage_context.persist()"
   ]
  },
  {
   "attachments": {},
   "cell_type": "markdown",
   "metadata": {},
   "source": [
    "## Eine Frage an das Modell schicken\n",
    "\n",
    "... und eine Antwort im Kontext der Daten bekommen"
   ]
  },
  {
   "cell_type": "code",
   "execution_count": null,
   "metadata": {},
   "outputs": [],
   "source": [
    "import textwrap\n",
    "\n",
    "question = mr.Text(value=\"Was ist k6.io? Wofür benutzt man es?\", label=\"Womit kann Deepshore helfen?\", rows=1)\n",
    "\n",
    "query_engine = index.as_query_engine()\n",
    "\n",
    "response = query_engine.query(question.value)\n",
    "\n",
    "messages = [question.value, \"\\n\".join(textwrap.wrap(response.response,29))]\n",
    "mr.Chat(messages)"
   ]
  }
 ],
 "metadata": {
  "kernelspec": {
   "display_name": "Python 3",
   "language": "python",
   "name": "python3"
  },
  "language_info": {
   "codemirror_mode": {
    "name": "ipython",
    "version": 3
   },
   "file_extension": ".py",
   "mimetype": "text/x-python",
   "name": "python",
   "nbconvert_exporter": "python",
   "pygments_lexer": "ipython3",
   "version": "3.10.10"
  },
  "orig_nbformat": 4
 },
 "nbformat": 4,
 "nbformat_minor": 2
}
