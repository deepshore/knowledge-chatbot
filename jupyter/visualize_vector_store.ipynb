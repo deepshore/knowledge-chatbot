{
 "cells": [
  {
   "attachments": {},
   "cell_type": "markdown",
   "metadata": {},
   "source": [
    "# Visualize Vector Store\n",
    "\n",
    "- visualize high-dimensional data\n",
    "\n",
    "![](images/high-dimensional-data.png)"
   ]
  },
  {
   "cell_type": "code",
   "execution_count": null,
   "metadata": {},
   "outputs": [],
   "source": [
    "%pip install llama_index\n",
    "#!pip install llama_hub --force-reinstall\n",
    "%pip uninstall -y llama_hub\n",
    "%pip install git+https://github.com/selamanse/llama-hub.git@add_extra_info_to_web\n",
    "%pip install langchain\n",
    "%pip install chromadb\n",
    "#!pip install git+https://github.com/mtybadger/chromaviz/\n",
    "%pip install -e /Users/selamanse/Documents/GITHUB/chromaviz"
   ]
  },
  {
   "attachments": {},
   "cell_type": "markdown",
   "metadata": {},
   "source": [
    "## import libraries and set api key"
   ]
  },
  {
   "cell_type": "code",
   "execution_count": null,
   "metadata": {},
   "outputs": [],
   "source": [
    "import os\n",
    "import logging\n",
    "import sys\n",
    "import getpass\n",
    "\n",
    "logging.basicConfig(stream=sys.stdout, level=logging.INFO)\n",
    "logging.getLogger().addHandler(logging.StreamHandler(stream=sys.stdout))\n",
    "\n",
    "# using this to connect to openai\n",
    "os.environ[\"OPENAI_API_KEY\"] = getpass.getpass(\"OpenAI API Key:\")\n",
    "os.environ[\"OPENAI_API_BASE\"] = \"https://api.openai.com/v1\""
   ]
  },
  {
   "attachments": {},
   "cell_type": "markdown",
   "metadata": {},
   "source": [
    "## load data from website via sitemap\n",
    "\n",
    "using the [llama_hub loader for sitemaps](https://llama-hub-ui.vercel.app/l/web-sitemap)"
   ]
  },
  {
   "cell_type": "code",
   "execution_count": null,
   "metadata": {},
   "outputs": [],
   "source": [
    "from llama_hub.web.sitemap.base import SitemapReader\n",
    "\n",
    "# for jupyter notebooks uncomment the following two lines of code:\n",
    "import nest_asyncio\n",
    "nest_asyncio.apply()\n",
    "\n",
    "loader = SitemapReader(html_to_text=True)\n",
    "documents = loader.load_data(sitemap_url='https://deepshore.de/sitemap.xml', filter='https://deepshore.de/knowledge')\n",
    "\n",
    "print(len(documents))\n",
    "print(documents[0].extra_info)"
   ]
  },
  {
   "attachments": {},
   "cell_type": "markdown",
   "metadata": {},
   "source": [
    "## Add to Vector DB from Documents"
   ]
  },
  {
   "cell_type": "code",
   "execution_count": null,
   "metadata": {},
   "outputs": [],
   "source": [
    "from langchain.vectorstores import Chroma\n",
    "from llama_index.schema import Document\n",
    "from langchain.embeddings.openai import OpenAIEmbeddings\n",
    "import chromadb\n",
    "from chromadb.config import Settings\n",
    "from langchain.vectorstores import Chroma\n",
    "\n",
    "#https://docs.trychroma.com/telemetry#opting-out\n",
    "chromadb_settings = Settings(anonymized_telemetry=False, persist_directory=\"./chroma\", chroma_db_impl=\"duckdb+parquet\")\n",
    "\n"
   ]
  },
  {
   "cell_type": "code",
   "execution_count": null,
   "metadata": {},
   "outputs": [],
   "source": [
    "\n",
    "chromadb_client = chromadb.Client(chromadb_settings)\n",
    "chroma_client = Chroma(collection_name='deepshore-sitemap', client=chromadb_client, embedding_function=OpenAIEmbeddings())\n",
    "\n",
    "langchain_documents = []\n",
    "for d in documents:\n",
    "    langchain_documents.append(d.to_langchain_format())\n",
    "\n",
    "vectordb = chroma_client.from_documents(langchain_documents, OpenAIEmbeddings(), collection_name='deepshore-sitemap', client_settings=chromadb_settings, persist_directory=\"./chroma\")\n",
    "\n",
    "vectordb.persist()"
   ]
  },
  {
   "attachments": {},
   "cell_type": "markdown",
   "metadata": {},
   "source": [
    "# Visualize storage\n",
    "\n",
    "visualize high-dimensional data with t-SNE a statistical method.\n",
    "\n",
    "https://en.wikipedia.org/wiki/T-distributed_stochastic_neighbor_embedding#:~:text=t%2Ddistributed%20stochastic%20neighbor%20embedding%20(t%2DSNE)%20is,two%20or%20three%2Ddimensional%20map."
   ]
  },
  {
   "cell_type": "code",
   "execution_count": null,
   "metadata": {},
   "outputs": [],
   "source": [
    "#%pip install -e /Users/selamanse/Documents/GITHUB/chromaviz\n",
    "%pip install git+https://github.com/selamanse/chromaviz/\n",
    "\n",
    "from chromaviz import visualize_collection\n",
    "\n",
    "visualize_collection(col=vectordb._collection)\n",
    "\n",
    "# import requests\n",
    "# import json\n",
    "# data = vectordb._collection.get(include=[\"documents\", \"metadatas\",\"embeddings\"])\n",
    "# x = requests.post('http://lima-0:16875/import-data', data=json.dumps(data))\n",
    "# print(x)\n"
   ]
  },
  {
   "attachments": {},
   "cell_type": "markdown",
   "metadata": {},
   "source": [
    "# Visualize with atlas"
   ]
  },
  {
   "cell_type": "code",
   "execution_count": null,
   "metadata": {},
   "outputs": [],
   "source": [
    "\"\"\"\n",
    "Visualizing your pinecone vector database index in Atlas\n",
    "\"\"\"\n",
    "import numpy as np\n",
    "from nomic import atlas\n",
    "import nomic\n",
    "\n",
    "nomic.login(getpass.getpass(\"Nomic API Key:\"))\n",
    "\n",
    "num_embeddings = 999\n",
    "\n",
    "#now pull the embeddings out of pinecone by id\n",
    "vectors = vectordb._collection.get()\n",
    "\n",
    "ids = []\n",
    "info_jsons = []\n",
    "embeddings = []\n",
    "titles = []\n",
    "for id in vectors['ids']:\n",
    "    ids.append(id)\n",
    "    meta_source = vectordb._collection.get(ids=id, include=['metadatas'])['metadatas'][0]['Source']\n",
    "    text = vectordb._collection.get(ids=id, include=['documents'])['documents'][0]\n",
    "    idx = text.find('\\n### ')\n",
    "    info_jsons.append({'id': id, 'Source': meta_source, 'Document': text[idx + 6:idx + 50]})    \n",
    "    embeddings.append(vectordb._collection.get(ids=id, include=['embeddings'])['embeddings'][0])\n",
    "\n",
    "embeddings = np.array(embeddings)\n",
    "\n",
    "atlas.map_embeddings(embeddings=embeddings, data=info_jsons, id_field='id')\n"
   ]
  },
  {
   "attachments": {},
   "cell_type": "markdown",
   "metadata": {},
   "source": [
    "## retrieve relevant documents from vector store\n",
    "\n",
    "- show basic usage of what we can further do with the data inside a vector db"
   ]
  },
  {
   "cell_type": "code",
   "execution_count": null,
   "metadata": {},
   "outputs": [],
   "source": [
    "retriever = vectordb.as_retriever()\n",
    "\n",
    "retriever.get_relevant_documents(\"Advent\")\n"
   ]
  }
 ],
 "metadata": {
  "kernelspec": {
   "display_name": "Python 3",
   "language": "python",
   "name": "python3"
  },
  "language_info": {
   "codemirror_mode": {
    "name": "ipython",
    "version": 3
   },
   "file_extension": ".py",
   "mimetype": "text/x-python",
   "name": "python",
   "nbconvert_exporter": "python",
   "pygments_lexer": "ipython3",
   "version": "3.10.10"
  },
  "orig_nbformat": 4
 },
 "nbformat": 4,
 "nbformat_minor": 2
}
