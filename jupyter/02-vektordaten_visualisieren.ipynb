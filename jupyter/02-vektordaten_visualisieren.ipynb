{
 "cells": [
  {
   "attachments": {},
   "cell_type": "markdown",
   "metadata": {},
   "source": [
    "# Vektordaten visualisieren\n",
    "\n",
    "Dieses Notebook führt dich durch folgende Schritte:\n",
    "\n",
    "- Installation der benötigten Pakete.\n",
    "- Benutzen des Sitemap Loaders um die deepshore.de nach Wissensbeiträgen zu durchkämmen.\n",
    "- Die Dokumente an ein Embeddings Modell schicken, in Vektoren verwandeln und im Index speichern.\n",
    "- Daten lokal mittels chromaviz (webanwendung) visualisieren.\n",
    "- Daten online mittels nomic ai Atlas visualisieren.\n",
    "\n",
    "Du benötigst:\n",
    "\n",
    "- python 3.10\n",
    "- Jupyter Notebook Server\n",
    "- Einen OpenAI API Token\n",
    "\n",
    "\n",
    "## Installation"
   ]
  },
  {
   "cell_type": "code",
   "execution_count": null,
   "metadata": {},
   "outputs": [],
   "source": [
    "%pip install llama_index==\"0.6.38\"\n",
    "%pip install llama_hub==\"0.0.5\"\n",
    "%pip install langchain==\"0.0.222\"\n",
    "%pip install chromadb==\"0.3.26\"\n",
    "%pip install git+https://github.com/selamanse/chromaviz/"
   ]
  },
  {
   "attachments": {},
   "cell_type": "markdown",
   "metadata": {},
   "source": [
    "## Open AI Konfiguration"
   ]
  },
  {
   "cell_type": "code",
   "execution_count": null,
   "metadata": {},
   "outputs": [],
   "source": [
    "import os\n",
    "import logging\n",
    "import sys\n",
    "import getpass\n",
    "\n",
    "logging.basicConfig(stream=sys.stdout, level=logging.INFO)\n",
    "logging.getLogger().addHandler(logging.StreamHandler(stream=sys.stdout))\n",
    "\n",
    "os.environ[\"OPENAI_API_KEY\"] = getpass.getpass(\"OpenAI API Key:\")"
   ]
  },
  {
   "attachments": {},
   "cell_type": "markdown",
   "metadata": {},
   "source": [
    "## Dokumente laden\n",
    "\n",
    " - Die Dokumente werden geladen, indem man den [Sitemap Loader](https://llama-hub-ui.vercel.app/l/web-sitemap) benutzt, um die Webseite deepshore.de nach Wissensbeiträgen zu durchkämmen"
   ]
  },
  {
   "cell_type": "code",
   "execution_count": null,
   "metadata": {},
   "outputs": [],
   "source": [
    "from llama_hub.web.sitemap.base import SitemapReader\n",
    "\n",
    "import nest_asyncio\n",
    "nest_asyncio.apply()\n",
    "\n",
    "loader = SitemapReader(html_to_text=True)\n",
    "documents = loader.load_data(sitemap_url='https://deepshore.de/sitemap.xml', filter='https://deepshore.de/knowledge')\n",
    "\n",
    "print(len(documents))"
   ]
  },
  {
   "attachments": {},
   "cell_type": "markdown",
   "metadata": {},
   "source": [
    "## Die Dokumente an ein Embeddings Modell schicken\n",
    "\n",
    " - in Vektoren verwandeln und im Index speichern "
   ]
  },
  {
   "cell_type": "code",
   "execution_count": null,
   "metadata": {},
   "outputs": [],
   "source": [
    "from langchain.vectorstores import Chroma\n",
    "from llama_index.schema import Document\n",
    "from langchain.embeddings.openai import OpenAIEmbeddings\n",
    "import chromadb\n",
    "from chromadb.config import Settings\n",
    "from langchain.vectorstores import Chroma\n",
    "\n",
    "#https://docs.trychroma.com/telemetry#opting-out\n",
    "chromadb_settings = Settings(anonymized_telemetry=False, persist_directory=\"./chroma\", chroma_db_impl=\"duckdb+parquet\")\n",
    "chromadb_client = chromadb.Client(chromadb_settings)\n",
    "chroma_client = Chroma(collection_name='deepshore-sitemap', client=chromadb_client, embedding_function=OpenAIEmbeddings())\n",
    "\n",
    "langchain_documents = []\n",
    "for d in documents:\n",
    "    langchain_documents.append(d.to_langchain_format())\n",
    "\n",
    "vectordb = chroma_client.from_documents(langchain_documents, OpenAIEmbeddings(), collection_name='deepshore-sitemap', client_settings=chromadb_settings, persist_directory=\"./chroma\")\n",
    "\n",
    "vectordb.persist()"
   ]
  },
  {
   "attachments": {},
   "cell_type": "markdown",
   "metadata": {},
   "source": [
    "# Vektordaten sichtbar machen (offline methode)\n",
    "\n",
    "- Hochdimensionale Daten mit [t-SNE](https://en.wikipedia.org/wiki/T-distributed_stochastic_neighbor_embedding)\n"
   ]
  },
  {
   "cell_type": "code",
   "execution_count": null,
   "metadata": {},
   "outputs": [],
   "source": [
    "from chromaviz import visualize_collection\n",
    "\n",
    "visualize_collection(col=vectordb._collection)"
   ]
  },
  {
   "attachments": {},
   "cell_type": "markdown",
   "metadata": {},
   "source": [
    "# Vektordaten sichtbar machen (online methode)\n",
    "\n",
    "Mittels [Atlas Software](https://atlas.nomic.ai/). Registrierung erforderlich."
   ]
  },
  {
   "cell_type": "code",
   "execution_count": null,
   "metadata": {},
   "outputs": [],
   "source": [
    "\"\"\"\n",
    "Visualizing your pinecone vector database index in Atlas\n",
    "\"\"\"\n",
    "import numpy as np\n",
    "from nomic import atlas\n",
    "import nomic\n",
    "\n",
    "nomic.login(getpass.getpass(\"Nomic API Key:\"))\n",
    "\n",
    "num_embeddings = 999\n",
    "\n",
    "#now pull the embeddings out of pinecone by id\n",
    "vectors = vectordb._collection.get()\n",
    "\n",
    "ids = []\n",
    "info_jsons = []\n",
    "embeddings = []\n",
    "titles = []\n",
    "for id in vectors['ids']:\n",
    "    ids.append(id)\n",
    "    meta_source = vectordb._collection.get(ids=id, include=['metadatas'])['metadatas'][0]['Source']\n",
    "    text = vectordb._collection.get(ids=id, include=['documents'])['documents'][0]\n",
    "    idx = text.find('\\n### ')\n",
    "    info_jsons.append({'id': id, 'Source': meta_source, 'Document': text[idx + 6:idx + 50]})    \n",
    "    embeddings.append(vectordb._collection.get(ids=id, include=['embeddings'])['embeddings'][0])\n",
    "\n",
    "embeddings = np.array(embeddings)\n",
    "\n",
    "atlas.map_embeddings(embeddings=embeddings, data=info_jsons, id_field='id')\n"
   ]
  }
 ],
 "metadata": {
  "kernelspec": {
   "display_name": "Python 3",
   "language": "python",
   "name": "python3"
  },
  "language_info": {
   "codemirror_mode": {
    "name": "ipython",
    "version": 3
   },
   "file_extension": ".py",
   "mimetype": "text/x-python",
   "name": "python",
   "nbconvert_exporter": "python",
   "pygments_lexer": "ipython3",
   "version": "3.10.10"
  },
  "orig_nbformat": 4
 },
 "nbformat": 4,
 "nbformat_minor": 2
}
