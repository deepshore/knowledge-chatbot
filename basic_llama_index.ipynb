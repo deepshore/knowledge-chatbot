{
 "cells": [
  {
   "attachments": {},
   "cell_type": "markdown",
   "metadata": {},
   "source": [
    "# Basic llama index usage\n",
    "\n",
    "## install libraries"
   ]
  },
  {
   "cell_type": "code",
   "execution_count": 1,
   "metadata": {},
   "outputs": [
    {
     "name": "stdout",
     "output_type": "stream",
     "text": [
      "\u001b[33mDEPRECATION: Configuring installation scheme with distutils config files is deprecated and will no longer work in the near future. If you are using a Homebrew or Linuxbrew Python, please see discussion at https://github.com/Homebrew/homebrew-core/issues/76621\u001b[0m\u001b[33m\n",
      "\u001b[0mRequirement already satisfied: llama_index in /usr/local/lib/python3.9/site-packages (0.6.8)\n",
      "Requirement already satisfied: dataclasses-json in /usr/local/lib/python3.9/site-packages (from llama_index) (0.5.7)\n",
      "Requirement already satisfied: langchain>=0.0.154 in /usr/local/lib/python3.9/site-packages (from llama_index) (0.0.172)\n",
      "Requirement already satisfied: numpy in /usr/local/lib/python3.9/site-packages (from llama_index) (1.24.2)\n",
      "Requirement already satisfied: tenacity<9.0.0,>=8.2.0 in /usr/local/lib/python3.9/site-packages (from llama_index) (8.2.2)\n",
      "Requirement already satisfied: openai>=0.26.4 in /usr/local/lib/python3.9/site-packages (from llama_index) (0.27.6)\n",
      "Requirement already satisfied: pandas in /usr/local/lib/python3.9/site-packages (from llama_index) (2.0.1)\n",
      "Requirement already satisfied: requests<2.30.0 in /usr/local/lib/python3.9/site-packages (from llama_index) (2.29.0)\n",
      "Requirement already satisfied: tiktoken in /usr/local/lib/python3.9/site-packages (from llama_index) (0.4.0)\n",
      "Requirement already satisfied: PyYAML>=5.4.1 in /usr/local/lib/python3.9/site-packages (from langchain>=0.0.154->llama_index) (5.4.1)\n",
      "Requirement already satisfied: SQLAlchemy<3,>=1.4 in /usr/local/lib/python3.9/site-packages (from langchain>=0.0.154->llama_index) (1.4.42)\n",
      "Requirement already satisfied: aiohttp<4.0.0,>=3.8.3 in /usr/local/lib/python3.9/site-packages (from langchain>=0.0.154->llama_index) (3.8.4)\n",
      "Requirement already satisfied: async-timeout<5.0.0,>=4.0.0 in /usr/local/lib/python3.9/site-packages (from langchain>=0.0.154->llama_index) (4.0.2)\n",
      "Requirement already satisfied: numexpr<3.0.0,>=2.8.4 in /usr/local/lib/python3.9/site-packages (from langchain>=0.0.154->llama_index) (2.8.4)\n",
      "Requirement already satisfied: openapi-schema-pydantic<2.0,>=1.2 in /usr/local/lib/python3.9/site-packages (from langchain>=0.0.154->llama_index) (1.2.4)\n",
      "Requirement already satisfied: pydantic<2,>=1 in /usr/local/lib/python3.9/site-packages (from langchain>=0.0.154->llama_index) (1.10.7)\n",
      "Requirement already satisfied: marshmallow<4.0.0,>=3.3.0 in /usr/local/lib/python3.9/site-packages (from dataclasses-json->llama_index) (3.19.0)\n",
      "Requirement already satisfied: marshmallow-enum<2.0.0,>=1.5.1 in /usr/local/lib/python3.9/site-packages (from dataclasses-json->llama_index) (1.5.1)\n",
      "Requirement already satisfied: typing-inspect>=0.4.0 in /usr/local/lib/python3.9/site-packages (from dataclasses-json->llama_index) (0.8.0)\n",
      "Requirement already satisfied: tqdm in /usr/local/lib/python3.9/site-packages (from openai>=0.26.4->llama_index) (4.64.1)\n",
      "Requirement already satisfied: charset-normalizer<4,>=2 in /usr/local/lib/python3.9/site-packages (from requests<2.30.0->llama_index) (3.1.0)\n",
      "Requirement already satisfied: idna<4,>=2.5 in /usr/local/lib/python3.9/site-packages (from requests<2.30.0->llama_index) (2.10)\n",
      "Requirement already satisfied: urllib3<1.27,>=1.21.1 in /usr/local/lib/python3.9/site-packages (from requests<2.30.0->llama_index) (1.26.7)\n",
      "Requirement already satisfied: certifi>=2017.4.17 in /usr/local/lib/python3.9/site-packages (from requests<2.30.0->llama_index) (2021.10.8)\n",
      "Requirement already satisfied: python-dateutil>=2.8.2 in /usr/local/lib/python3.9/site-packages (from pandas->llama_index) (2.8.2)\n",
      "Requirement already satisfied: pytz>=2020.1 in /usr/local/lib/python3.9/site-packages (from pandas->llama_index) (2021.3)\n",
      "Requirement already satisfied: tzdata>=2022.1 in /usr/local/lib/python3.9/site-packages (from pandas->llama_index) (2023.3)\n",
      "Requirement already satisfied: regex>=2022.1.18 in /usr/local/lib/python3.9/site-packages (from tiktoken->llama_index) (2023.5.5)\n",
      "Requirement already satisfied: attrs>=17.3.0 in /usr/local/lib/python3.9/site-packages (from aiohttp<4.0.0,>=3.8.3->langchain>=0.0.154->llama_index) (21.2.0)\n",
      "Requirement already satisfied: multidict<7.0,>=4.5 in /usr/local/lib/python3.9/site-packages (from aiohttp<4.0.0,>=3.8.3->langchain>=0.0.154->llama_index) (6.0.4)\n",
      "Requirement already satisfied: yarl<2.0,>=1.0 in /usr/local/lib/python3.9/site-packages (from aiohttp<4.0.0,>=3.8.3->langchain>=0.0.154->llama_index) (1.9.2)\n",
      "Requirement already satisfied: frozenlist>=1.1.1 in /usr/local/lib/python3.9/site-packages (from aiohttp<4.0.0,>=3.8.3->langchain>=0.0.154->llama_index) (1.3.3)\n",
      "Requirement already satisfied: aiosignal>=1.1.2 in /usr/local/lib/python3.9/site-packages (from aiohttp<4.0.0,>=3.8.3->langchain>=0.0.154->llama_index) (1.3.1)\n",
      "Requirement already satisfied: packaging>=17.0 in /usr/local/lib/python3.9/site-packages (from marshmallow<4.0.0,>=3.3.0->dataclasses-json->llama_index) (21.3)\n",
      "Requirement already satisfied: typing-extensions>=4.2.0 in /usr/local/lib/python3.9/site-packages (from pydantic<2,>=1->langchain>=0.0.154->llama_index) (4.5.0)\n",
      "Requirement already satisfied: six>=1.5 in /usr/local/lib/python3.9/site-packages (from python-dateutil>=2.8.2->pandas->llama_index) (1.16.0)\n",
      "Requirement already satisfied: greenlet!=0.4.17 in /usr/local/lib/python3.9/site-packages (from SQLAlchemy<3,>=1.4->langchain>=0.0.154->llama_index) (1.1.3.post0)\n",
      "Requirement already satisfied: mypy-extensions>=0.3.0 in /usr/local/lib/python3.9/site-packages (from typing-inspect>=0.4.0->dataclasses-json->llama_index) (1.0.0)\n",
      "Requirement already satisfied: pyparsing!=3.0.5,>=2.0.2 in /usr/local/lib/python3.9/site-packages (from packaging>=17.0->marshmallow<4.0.0,>=3.3.0->dataclasses-json->llama_index) (3.0.6)\n",
      "\u001b[33mDEPRECATION: Configuring installation scheme with distutils config files is deprecated and will no longer work in the near future. If you are using a Homebrew or Linuxbrew Python, please see discussion at https://github.com/Homebrew/homebrew-core/issues/76621\u001b[0m\u001b[33m\n",
      "\u001b[0m\u001b[33mDEPRECATION: Configuring installation scheme with distutils config files is deprecated and will no longer work in the near future. If you are using a Homebrew or Linuxbrew Python, please see discussion at https://github.com/Homebrew/homebrew-core/issues/76621\u001b[0m\u001b[33m\n",
      "\u001b[0mRequirement already satisfied: langchain in /usr/local/lib/python3.9/site-packages (0.0.172)\n",
      "Requirement already satisfied: PyYAML>=5.4.1 in /usr/local/lib/python3.9/site-packages (from langchain) (5.4.1)\n",
      "Requirement already satisfied: SQLAlchemy<3,>=1.4 in /usr/local/lib/python3.9/site-packages (from langchain) (1.4.42)\n",
      "Requirement already satisfied: aiohttp<4.0.0,>=3.8.3 in /usr/local/lib/python3.9/site-packages (from langchain) (3.8.4)\n",
      "Requirement already satisfied: async-timeout<5.0.0,>=4.0.0 in /usr/local/lib/python3.9/site-packages (from langchain) (4.0.2)\n",
      "Requirement already satisfied: dataclasses-json<0.6.0,>=0.5.7 in /usr/local/lib/python3.9/site-packages (from langchain) (0.5.7)\n",
      "Requirement already satisfied: numexpr<3.0.0,>=2.8.4 in /usr/local/lib/python3.9/site-packages (from langchain) (2.8.4)\n",
      "Requirement already satisfied: numpy<2,>=1 in /usr/local/lib/python3.9/site-packages (from langchain) (1.24.2)\n",
      "Requirement already satisfied: openapi-schema-pydantic<2.0,>=1.2 in /usr/local/lib/python3.9/site-packages (from langchain) (1.2.4)\n",
      "Requirement already satisfied: pydantic<2,>=1 in /usr/local/lib/python3.9/site-packages (from langchain) (1.10.7)\n",
      "Requirement already satisfied: requests<3,>=2 in /usr/local/lib/python3.9/site-packages (from langchain) (2.29.0)\n",
      "Requirement already satisfied: tenacity<9.0.0,>=8.1.0 in /usr/local/lib/python3.9/site-packages (from langchain) (8.2.2)\n",
      "Requirement already satisfied: attrs>=17.3.0 in /usr/local/lib/python3.9/site-packages (from aiohttp<4.0.0,>=3.8.3->langchain) (21.2.0)\n",
      "Requirement already satisfied: charset-normalizer<4.0,>=2.0 in /usr/local/lib/python3.9/site-packages (from aiohttp<4.0.0,>=3.8.3->langchain) (3.1.0)\n",
      "Requirement already satisfied: multidict<7.0,>=4.5 in /usr/local/lib/python3.9/site-packages (from aiohttp<4.0.0,>=3.8.3->langchain) (6.0.4)\n",
      "Requirement already satisfied: yarl<2.0,>=1.0 in /usr/local/lib/python3.9/site-packages (from aiohttp<4.0.0,>=3.8.3->langchain) (1.9.2)\n",
      "Requirement already satisfied: frozenlist>=1.1.1 in /usr/local/lib/python3.9/site-packages (from aiohttp<4.0.0,>=3.8.3->langchain) (1.3.3)\n",
      "Requirement already satisfied: aiosignal>=1.1.2 in /usr/local/lib/python3.9/site-packages (from aiohttp<4.0.0,>=3.8.3->langchain) (1.3.1)\n",
      "Requirement already satisfied: marshmallow<4.0.0,>=3.3.0 in /usr/local/lib/python3.9/site-packages (from dataclasses-json<0.6.0,>=0.5.7->langchain) (3.19.0)\n",
      "Requirement already satisfied: marshmallow-enum<2.0.0,>=1.5.1 in /usr/local/lib/python3.9/site-packages (from dataclasses-json<0.6.0,>=0.5.7->langchain) (1.5.1)\n",
      "Requirement already satisfied: typing-inspect>=0.4.0 in /usr/local/lib/python3.9/site-packages (from dataclasses-json<0.6.0,>=0.5.7->langchain) (0.8.0)\n",
      "Requirement already satisfied: typing-extensions>=4.2.0 in /usr/local/lib/python3.9/site-packages (from pydantic<2,>=1->langchain) (4.5.0)\n",
      "Requirement already satisfied: idna<4,>=2.5 in /usr/local/lib/python3.9/site-packages (from requests<3,>=2->langchain) (2.10)\n",
      "Requirement already satisfied: urllib3<1.27,>=1.21.1 in /usr/local/lib/python3.9/site-packages (from requests<3,>=2->langchain) (1.26.7)\n",
      "Requirement already satisfied: certifi>=2017.4.17 in /usr/local/lib/python3.9/site-packages (from requests<3,>=2->langchain) (2021.10.8)\n",
      "Requirement already satisfied: greenlet!=0.4.17 in /usr/local/lib/python3.9/site-packages (from SQLAlchemy<3,>=1.4->langchain) (1.1.3.post0)\n",
      "Requirement already satisfied: packaging>=17.0 in /usr/local/lib/python3.9/site-packages (from marshmallow<4.0.0,>=3.3.0->dataclasses-json<0.6.0,>=0.5.7->langchain) (21.3)\n",
      "Requirement already satisfied: mypy-extensions>=0.3.0 in /usr/local/lib/python3.9/site-packages (from typing-inspect>=0.4.0->dataclasses-json<0.6.0,>=0.5.7->langchain) (1.0.0)\n",
      "Requirement already satisfied: pyparsing!=3.0.5,>=2.0.2 in /usr/local/lib/python3.9/site-packages (from packaging>=17.0->marshmallow<4.0.0,>=3.3.0->dataclasses-json<0.6.0,>=0.5.7->langchain) (3.0.6)\n",
      "\u001b[33mDEPRECATION: Configuring installation scheme with distutils config files is deprecated and will no longer work in the near future. If you are using a Homebrew or Linuxbrew Python, please see discussion at https://github.com/Homebrew/homebrew-core/issues/76621\u001b[0m\u001b[33m\n",
      "\u001b[0m"
     ]
    }
   ],
   "source": [
    "!pip install llama_index\n",
    "!pip install langchain"
   ]
  },
  {
   "attachments": {},
   "cell_type": "markdown",
   "metadata": {},
   "source": [
    "## import libraries and set api key for gpt-3"
   ]
  },
  {
   "cell_type": "code",
   "execution_count": 2,
   "metadata": {},
   "outputs": [],
   "source": [
    "import os\n",
    "import logging\n",
    "import sys\n",
    "\n",
    "logging.basicConfig(stream=sys.stdout, level=logging.INFO)\n",
    "logging.getLogger().addHandler(logging.StreamHandler(stream=sys.stdout))\n",
    "\n",
    "os.environ['OPENAI_API_KEY'] = \"your key here\""
   ]
  },
  {
   "attachments": {},
   "cell_type": "markdown",
   "metadata": {},
   "source": [
    "## load data and create index"
   ]
  },
  {
   "cell_type": "code",
   "execution_count": 50,
   "metadata": {},
   "outputs": [
    {
     "name": "stdout",
     "output_type": "stream",
     "text": [
      "error adding with $https://deepshore.de/knowledge/2020-01-06\n",
      "81\n"
     ]
    }
   ],
   "source": [
    "from llama_index import download_loader\n",
    "import urllib.request\n",
    "import xml.etree.ElementTree\n",
    "import xml.etree.ElementTree as ET\n",
    "\n",
    "RemoteReader = download_loader(\"RemoteReader\")\n",
    "loader = RemoteReader()\n",
    "\n",
    "deepshore_webpage = urllib.request.urlopen('https://deepshore.de/sitemap.xml')\n",
    "sitemap = ET.fromstring(deepshore_webpage.read())\n",
    "\n",
    "#for child in sitemap:\n",
    "#    print(child.tag)\n",
    "documents = []\n",
    "\n",
    "for url in sitemap.findall('{http://www.sitemaps.org/schemas/sitemap/0.9}url'):\n",
    "    location = url.find('{http://www.sitemaps.org/schemas/sitemap/0.9}loc').text\n",
    "    if \"https://deepshore.de/knowledge/\" in location:\n",
    "        #print(location)\n",
    "        try:\n",
    "            documents = documents + loader.load_data(url=location)\n",
    "        except:\n",
    "            print(f'error adding with ${location}')\n",
    "            pass # ignore errors      \n",
    "\n",
    "print(len(documents))\n"
   ]
  },
  {
   "attachments": {},
   "cell_type": "markdown",
   "metadata": {},
   "source": [
    "## Create Index from Documents"
   ]
  },
  {
   "cell_type": "code",
   "execution_count": 51,
   "metadata": {},
   "outputs": [
    {
     "name": "stdout",
     "output_type": "stream",
     "text": [
      "INFO:llama_index.token_counter.token_counter:> [build_index_from_nodes] Total LLM token usage: 0 tokens\n",
      "> [build_index_from_nodes] Total LLM token usage: 0 tokens\n",
      "INFO:llama_index.token_counter.token_counter:> [build_index_from_nodes] Total embedding token usage: 874283 tokens\n",
      "> [build_index_from_nodes] Total embedding token usage: 874283 tokens\n"
     ]
    }
   ],
   "source": [
    "from llama_index import GPTVectorStoreIndex\n",
    "\n",
    "index = GPTVectorStoreIndex.from_documents(documents)"
   ]
  },
  {
   "attachments": {},
   "cell_type": "markdown",
   "metadata": {},
   "source": [
    "## load index from storage"
   ]
  },
  {
   "cell_type": "code",
   "execution_count": 56,
   "metadata": {},
   "outputs": [
    {
     "name": "stdout",
     "output_type": "stream",
     "text": [
      "INFO:llama_index.indices.loading:Loading all indices.\n",
      "Loading all indices.\n"
     ]
    }
   ],
   "source": [
    "from llama_index import StorageContext, load_index_from_storage\n",
    "\n",
    "# rebuild storage context\n",
    "storage_context = StorageContext.from_defaults(persist_dir=\"./storage\")\n",
    "# load index\n",
    "index = load_index_from_storage(storage_context)"
   ]
  },
  {
   "attachments": {},
   "cell_type": "markdown",
   "metadata": {},
   "source": [
    "## persist index to storage"
   ]
  },
  {
   "cell_type": "code",
   "execution_count": 52,
   "metadata": {},
   "outputs": [],
   "source": [
    "index.storage_context.persist()"
   ]
  },
  {
   "attachments": {},
   "cell_type": "markdown",
   "metadata": {},
   "source": [
    "## query index"
   ]
  },
  {
   "cell_type": "code",
   "execution_count": 57,
   "metadata": {},
   "outputs": [
    {
     "name": "stdout",
     "output_type": "stream",
     "text": [
      "INFO:llama_index.token_counter.token_counter:> [retrieve] Total LLM token usage: 0 tokens\n",
      "> [retrieve] Total LLM token usage: 0 tokens\n",
      "INFO:llama_index.token_counter.token_counter:> [retrieve] Total embedding token usage: 12 tokens\n",
      "> [retrieve] Total embedding token usage: 12 tokens\n",
      "INFO:llama_index.token_counter.token_counter:> [get_response] Total LLM token usage: 2215 tokens\n",
      "> [get_response] Total LLM token usage: 2215 tokens\n",
      "INFO:llama_index.token_counter.token_counter:> [get_response] Total embedding token usage: 0 tokens\n",
      "> [get_response] Total embedding token usage: 0 tokens\n"
     ]
    },
    {
     "data": {
      "text/plain": [
       "Response(response='\\nDas Deepshore Cloud Native Archive ist eine Blockchain-basierte Cloud-Lösung, die es Unternehmen ermöglicht, revisionssicher (compliant) auf beliebigen virtuellen und Cloud-Ressourcen zu agieren. Es nutzt ausschließlich Open-Source-Komponenten, die über den von Deepshore entwickelten Access Service orchestriert werden. Es kann innerhalb weniger Minuten installiert und genutzt werden und bietet einen extrem hohen Schutzstandard für Unternehmensdaten, der nach IDW PS 880 bestätigt wurde.', source_nodes=[NodeWithScore(node=Node(text='und off-premises) als auch klassische On-premises-Umgebungen sowie hybride Systemlandschaften.</p>\\n\\n\\n<p>Die für Compliant Storage geforderte Sicherheit vor ungewollten Veränderungen und Manipulationen wird durch die eingesetzte Blockchain-Technologie über kryptografische Verfahren, unfälschbare Zeitstempel und lückenlose Transaktionsverfolgung garantiert. Im Zusammenspiel mit dem internen Storageklassenkonzept und der integrierten Verschlüsselung wird ein extrem hoher Schutzstandard für Unternehmensdaten erreicht, der nun nach IDW PS 880 bestätigt wurde. Deshalb kann das Deepshore Cloud Native Archive sogar in Public-Cloud-Infrastrukturen wie Amazon Webservices, Google Cloud Plattform, Microsoft Azure, IBM Cloud oder Aliyun (Alibaba Cloud) rechtssicher eingesetzt werden.</p>\\n\\n\\n<p>Das Cloud Native Archive kann aufgrund seiner Service-Architektur innerhalb weniger Minuten installiert und genutzt werden. Es nutzt ausschließlich Open-Source-Komponenten, die über den von Deepshore entwickelten Access Service orchestriert werden. Nach außen verhält sich das System wie ein exponierter Storage-Endpunkt und kann so auch von klassischen ECM-Anwendungen wie IBM FileNet P8 und OpenText direkt adressiert werden. Damit ist das Cloud Native Archive gleichzeitig eine klare Alternative zu Compliant Storages wie NetApp SnapLock oder Hitachi Content Plattform (HCP).</p>\\n\\n\\n<p>Bereits vor der globalen Zertifizierung begann der Praxiseinsatz des Deepshore Cloud Native Archive bei Kunden aus dem Enterprise-Segment, wo es unter anderem für die Auslagerung von Daten aus SAP-HANA-Infrastrukturen genutzt wird. Auch bei diesen Anwendungen erfolgte eine Compliance-Testierung durch Wirtschaftsprüfer - hier jeweils auf der Ebene der konkreten individuellen Anwendungsausprägung.</p>\\n\\n\\n<p>1) GoBD: \"Grundsätze zur ordnungsmäßigen Führung und Aufbewahrung von Büchern, Aufzeichnungen und Unterlagen in elektronischer Form sowie zum Datenzugriff\"; vom Bundesministerium der Finanzen (BMF) erlassenen Grundsätze, die die Anforderungen an eine IT-gestützte Buchführung regeln</p>\\n\\n\\n<p>2) DSGVO: Datenschutz-Grundverordnung, eine EU-Verordnung, mit der die Regeln zur Verarbeitung personenbezogener Daten durch die meisten Verantwortlichen, sowohl private wie öffentliche, EU-weit vereinheitlicht werden.</p>\\n\\n\\n<p>3) IDW PS 880: Die Prüfung und Validierung von Softwareprodukten ist durch das Institut der Wirtschaftsprüfer (IDW) mittels eines Prüfungsstandard (PS) normiert.</p>\\n\\n\\n        </div>\\n\\n\\n        <div class=\"mt-3\">\\n\\n\\n          <!-- Share -->\\n\\n\\n<div class=\"notification mb-0\">\\n\\n\\n  Teilen\\n\\n\\n  <div class=\"field has-addons\">\\n\\n\\n    <div class=\"control\">\\n\\n\\n      <a class=\"button\"', doc_id='2aef3700-a718-49f6-8f00-3545eeb3f5de', embedding=None, doc_hash='2496defc0dbac4dc73edc6a4137fe3079b5604d25288b7dd8380271ec093bdd7', extra_info={'Source': 'https://deepshore.de/knowledge/2021-11-25'}, node_info={'start': 11868, 'end': 14547}, relationships={<DocumentRelationship.SOURCE: '1'>: '2e7ec9b5-01a1-4b02-bbcb-7e6c8b20bc27', <DocumentRelationship.PREVIOUS: '2'>: 'a7a7c600-5083-44a2-8205-fa28266e7bf0', <DocumentRelationship.NEXT: '3'>: '66c14d61-87c1-4240-88fe-536d1563c0e0'}), score=0.8704252855045667), NodeWithScore(node=Node(text='                         </span>\\n\\n\\n            </p>\\n\\n\\n            <p class=\"title is-size-2-fullhd is-size-3-desktop is-size-4-touch is-uppercase has-text-black\">\\n\\n\\n              Erste revisionssichere europäische Cloud-Lösung mit Blockchain-Technologie zertifiziert\\n\\n\\n            </p>\\n\\n\\n            <!-- Show tags -->\\n\\n\\n  <div class=\"tags\">\\n\\n\\n    <a class=\"tag is-dark is-family-monospace is-uppercase\" href=\"/knowledge/category:Veröffentlichung\">Veröffentlichung</a>\\n\\n\\n                          <a class=\"tag is-light is-rounded is-family-monospace is-uppercase\" href=\"/knowledge/tag:Blockchain\">Blockchain</a>\\n\\n\\n                                <a class=\"tag is-light is-rounded is-family-monospace is-uppercase\" href=\"/knowledge/tag:Cloud\">Cloud</a>\\n\\n\\n                                <a class=\"tag is-light is-rounded is-family-monospace is-uppercase\" href=\"/knowledge/tag:Recht und Compliance\">Recht und Compliance</a>\\n\\n\\n            </div>\\n\\n\\n          </div>\\n\\n\\n                    <div class=\"column\">\\n\\n\\n            <img alt=\"\" src=\"/images/2/1/1/1/1/211118deepshore107---4zu3-7d477105.jpg?g-62b25e36\" />\\n\\n\\n          </div>\\n\\n\\n                  </div>\\n\\n\\n        <div class=\"content mx-3 my-3\">\\n\\n\\n          <p><strong>Technologiespezialist erhält IDW-PS-880-Wirtschaftsprüfertestat<br />\\n\\n\\nfür Blockchain-basiertes Cloud Native Archive (CNA)</strong></p>\\n\\n\\n<p>Hamburg / Berlin – 25. November 2021: Es ist ein doppelter Durchbruch für den Markt der Enterprise-Archivlösungen: Mit der Zertifizierung des Deepshore Cloud Native Archive wird nach drei Jahren Entwicklungszeit erstmals eine Blockchain-Anwendung für den GoBD-1 und DSGVO2-konformen Einsatz testiert. In der Folge wird es nun zum ersten Mal möglich, nach europäischen Maßstäben auf beliebigen virtuellen und Cloud-Ressourcen revisionssicher (compliant) zu agieren - unabhängig von der Frage, wo auf der Welt und durch wen diese Ressourcen gehostet werden. Denn durch den kombinierten Einsatz einer Blockchain-Beglaubigung und einer Streamverschlüsselung wird das geforderte Schutzniveau für Originaldaten und die Einhaltung von Löschpflichten autonom abbildbar.</p>\\n\\n\\n<p>Bisher stehen Unternehmen, die Archive in Clouds verlagern wollen, vor gravierenden rechtlichen Problemen.', doc_id='0ccf3a9b-8f24-4c99-bbb2-5e23cdc9b45f', embedding=None, doc_hash='2400ebafca0c9637ddadd8406b66d32b99e687d296fd35e083a2f5ce3c4fafe4', extra_info={'Source': 'https://deepshore.de/knowledge/2021-11-25'}, node_info={'start': 6964, 'end': 9203}, relationships={<DocumentRelationship.SOURCE: '1'>: '2e7ec9b5-01a1-4b02-bbcb-7e6c8b20bc27', <DocumentRelationship.PREVIOUS: '2'>: 'c1ef1f4c-637f-4c80-a54d-dc7e51fe2cdc', <DocumentRelationship.NEXT: '3'>: 'a7a7c600-5083-44a2-8205-fa28266e7bf0'}), score=0.863871546366772)], extra_info={'2aef3700-a718-49f6-8f00-3545eeb3f5de': {'Source': 'https://deepshore.de/knowledge/2021-11-25'}, '0ccf3a9b-8f24-4c99-bbb2-5e23cdc9b45f': {'Source': 'https://deepshore.de/knowledge/2021-11-25'}})"
      ]
     },
     "execution_count": 57,
     "metadata": {},
     "output_type": "execute_result"
    }
   ],
   "source": [
    "query_engine = index.as_query_engine()\n",
    "query_engine.query(\"Was ist das cloud native archive von Deepshore?\")"
   ]
  }
 ],
 "metadata": {
  "kernelspec": {
   "display_name": "Python 3",
   "language": "python",
   "name": "python3"
  },
  "language_info": {
   "codemirror_mode": {
    "name": "ipython",
    "version": 3
   },
   "file_extension": ".py",
   "mimetype": "text/x-python",
   "name": "python",
   "nbconvert_exporter": "python",
   "pygments_lexer": "ipython3",
   "version": "3.9.16"
  },
  "orig_nbformat": 4
 },
 "nbformat": 4,
 "nbformat_minor": 2
}
