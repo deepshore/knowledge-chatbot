{
 "cells": [
  {
   "attachments": {},
   "cell_type": "markdown",
   "metadata": {},
   "source": [
    "# Basic llama index usage\n",
    "\n",
    "## install libraries"
   ]
  },
  {
   "cell_type": "code",
   "execution_count": 1,
   "metadata": {},
   "outputs": [
    {
     "name": "stdout",
     "output_type": "stream",
     "text": [
      "\u001b[33mDEPRECATION: Configuring installation scheme with distutils config files is deprecated and will no longer work in the near future. If you are using a Homebrew or Linuxbrew Python, please see discussion at https://github.com/Homebrew/homebrew-core/issues/76621\u001b[0m\u001b[33m\n",
      "\u001b[0mRequirement already satisfied: llama_index in /usr/local/lib/python3.9/site-packages (0.6.8)\n",
      "Requirement already satisfied: dataclasses-json in /usr/local/lib/python3.9/site-packages (from llama_index) (0.5.7)\n",
      "Requirement already satisfied: langchain>=0.0.154 in /usr/local/lib/python3.9/site-packages (from llama_index) (0.0.172)\n",
      "Requirement already satisfied: numpy in /usr/local/lib/python3.9/site-packages (from llama_index) (1.24.2)\n",
      "Requirement already satisfied: tenacity<9.0.0,>=8.2.0 in /usr/local/lib/python3.9/site-packages (from llama_index) (8.2.2)\n",
      "Requirement already satisfied: openai>=0.26.4 in /usr/local/lib/python3.9/site-packages (from llama_index) (0.27.6)\n",
      "Requirement already satisfied: pandas in /usr/local/lib/python3.9/site-packages (from llama_index) (2.0.1)\n",
      "Requirement already satisfied: requests<2.30.0 in /usr/local/lib/python3.9/site-packages (from llama_index) (2.29.0)\n",
      "Requirement already satisfied: tiktoken in /usr/local/lib/python3.9/site-packages (from llama_index) (0.4.0)\n",
      "Requirement already satisfied: PyYAML>=5.4.1 in /usr/local/lib/python3.9/site-packages (from langchain>=0.0.154->llama_index) (5.4.1)\n",
      "Requirement already satisfied: SQLAlchemy<3,>=1.4 in /usr/local/lib/python3.9/site-packages (from langchain>=0.0.154->llama_index) (1.4.42)\n",
      "Requirement already satisfied: aiohttp<4.0.0,>=3.8.3 in /usr/local/lib/python3.9/site-packages (from langchain>=0.0.154->llama_index) (3.8.4)\n",
      "Requirement already satisfied: async-timeout<5.0.0,>=4.0.0 in /usr/local/lib/python3.9/site-packages (from langchain>=0.0.154->llama_index) (4.0.2)\n",
      "Requirement already satisfied: numexpr<3.0.0,>=2.8.4 in /usr/local/lib/python3.9/site-packages (from langchain>=0.0.154->llama_index) (2.8.4)\n",
      "Requirement already satisfied: openapi-schema-pydantic<2.0,>=1.2 in /usr/local/lib/python3.9/site-packages (from langchain>=0.0.154->llama_index) (1.2.4)\n",
      "Requirement already satisfied: pydantic<2,>=1 in /usr/local/lib/python3.9/site-packages (from langchain>=0.0.154->llama_index) (1.10.7)\n",
      "Requirement already satisfied: marshmallow<4.0.0,>=3.3.0 in /usr/local/lib/python3.9/site-packages (from dataclasses-json->llama_index) (3.19.0)\n",
      "Requirement already satisfied: marshmallow-enum<2.0.0,>=1.5.1 in /usr/local/lib/python3.9/site-packages (from dataclasses-json->llama_index) (1.5.1)\n",
      "Requirement already satisfied: typing-inspect>=0.4.0 in /usr/local/lib/python3.9/site-packages (from dataclasses-json->llama_index) (0.8.0)\n",
      "Requirement already satisfied: tqdm in /usr/local/lib/python3.9/site-packages (from openai>=0.26.4->llama_index) (4.64.1)\n",
      "Requirement already satisfied: charset-normalizer<4,>=2 in /usr/local/lib/python3.9/site-packages (from requests<2.30.0->llama_index) (3.1.0)\n",
      "Requirement already satisfied: idna<4,>=2.5 in /usr/local/lib/python3.9/site-packages (from requests<2.30.0->llama_index) (2.10)\n",
      "Requirement already satisfied: urllib3<1.27,>=1.21.1 in /usr/local/lib/python3.9/site-packages (from requests<2.30.0->llama_index) (1.26.7)\n",
      "Requirement already satisfied: certifi>=2017.4.17 in /usr/local/lib/python3.9/site-packages (from requests<2.30.0->llama_index) (2021.10.8)\n",
      "Requirement already satisfied: python-dateutil>=2.8.2 in /usr/local/lib/python3.9/site-packages (from pandas->llama_index) (2.8.2)\n",
      "Requirement already satisfied: pytz>=2020.1 in /usr/local/lib/python3.9/site-packages (from pandas->llama_index) (2021.3)\n",
      "Requirement already satisfied: tzdata>=2022.1 in /usr/local/lib/python3.9/site-packages (from pandas->llama_index) (2023.3)\n",
      "Requirement already satisfied: regex>=2022.1.18 in /usr/local/lib/python3.9/site-packages (from tiktoken->llama_index) (2023.5.5)\n",
      "Requirement already satisfied: attrs>=17.3.0 in /usr/local/lib/python3.9/site-packages (from aiohttp<4.0.0,>=3.8.3->langchain>=0.0.154->llama_index) (21.2.0)\n",
      "Requirement already satisfied: multidict<7.0,>=4.5 in /usr/local/lib/python3.9/site-packages (from aiohttp<4.0.0,>=3.8.3->langchain>=0.0.154->llama_index) (6.0.4)\n",
      "Requirement already satisfied: yarl<2.0,>=1.0 in /usr/local/lib/python3.9/site-packages (from aiohttp<4.0.0,>=3.8.3->langchain>=0.0.154->llama_index) (1.9.2)\n",
      "Requirement already satisfied: frozenlist>=1.1.1 in /usr/local/lib/python3.9/site-packages (from aiohttp<4.0.0,>=3.8.3->langchain>=0.0.154->llama_index) (1.3.3)\n",
      "Requirement already satisfied: aiosignal>=1.1.2 in /usr/local/lib/python3.9/site-packages (from aiohttp<4.0.0,>=3.8.3->langchain>=0.0.154->llama_index) (1.3.1)\n",
      "Requirement already satisfied: packaging>=17.0 in /usr/local/lib/python3.9/site-packages (from marshmallow<4.0.0,>=3.3.0->dataclasses-json->llama_index) (21.3)\n",
      "Requirement already satisfied: typing-extensions>=4.2.0 in /usr/local/lib/python3.9/site-packages (from pydantic<2,>=1->langchain>=0.0.154->llama_index) (4.5.0)\n",
      "Requirement already satisfied: six>=1.5 in /usr/local/lib/python3.9/site-packages (from python-dateutil>=2.8.2->pandas->llama_index) (1.16.0)\n",
      "Requirement already satisfied: greenlet!=0.4.17 in /usr/local/lib/python3.9/site-packages (from SQLAlchemy<3,>=1.4->langchain>=0.0.154->llama_index) (1.1.3.post0)\n",
      "Requirement already satisfied: mypy-extensions>=0.3.0 in /usr/local/lib/python3.9/site-packages (from typing-inspect>=0.4.0->dataclasses-json->llama_index) (1.0.0)\n",
      "Requirement already satisfied: pyparsing!=3.0.5,>=2.0.2 in /usr/local/lib/python3.9/site-packages (from packaging>=17.0->marshmallow<4.0.0,>=3.3.0->dataclasses-json->llama_index) (3.0.6)\n",
      "\u001b[33mDEPRECATION: Configuring installation scheme with distutils config files is deprecated and will no longer work in the near future. If you are using a Homebrew or Linuxbrew Python, please see discussion at https://github.com/Homebrew/homebrew-core/issues/76621\u001b[0m\u001b[33m\n",
      "\u001b[0m\u001b[33mDEPRECATION: Configuring installation scheme with distutils config files is deprecated and will no longer work in the near future. If you are using a Homebrew or Linuxbrew Python, please see discussion at https://github.com/Homebrew/homebrew-core/issues/76621\u001b[0m\u001b[33m\n",
      "\u001b[0mRequirement already satisfied: langchain in /usr/local/lib/python3.9/site-packages (0.0.172)\n",
      "Requirement already satisfied: PyYAML>=5.4.1 in /usr/local/lib/python3.9/site-packages (from langchain) (5.4.1)\n",
      "Requirement already satisfied: SQLAlchemy<3,>=1.4 in /usr/local/lib/python3.9/site-packages (from langchain) (1.4.42)\n",
      "Requirement already satisfied: aiohttp<4.0.0,>=3.8.3 in /usr/local/lib/python3.9/site-packages (from langchain) (3.8.4)\n",
      "Requirement already satisfied: async-timeout<5.0.0,>=4.0.0 in /usr/local/lib/python3.9/site-packages (from langchain) (4.0.2)\n",
      "Requirement already satisfied: dataclasses-json<0.6.0,>=0.5.7 in /usr/local/lib/python3.9/site-packages (from langchain) (0.5.7)\n",
      "Requirement already satisfied: numexpr<3.0.0,>=2.8.4 in /usr/local/lib/python3.9/site-packages (from langchain) (2.8.4)\n",
      "Requirement already satisfied: numpy<2,>=1 in /usr/local/lib/python3.9/site-packages (from langchain) (1.24.2)\n",
      "Requirement already satisfied: openapi-schema-pydantic<2.0,>=1.2 in /usr/local/lib/python3.9/site-packages (from langchain) (1.2.4)\n",
      "Requirement already satisfied: pydantic<2,>=1 in /usr/local/lib/python3.9/site-packages (from langchain) (1.10.7)\n",
      "Requirement already satisfied: requests<3,>=2 in /usr/local/lib/python3.9/site-packages (from langchain) (2.29.0)\n",
      "Requirement already satisfied: tenacity<9.0.0,>=8.1.0 in /usr/local/lib/python3.9/site-packages (from langchain) (8.2.2)\n",
      "Requirement already satisfied: attrs>=17.3.0 in /usr/local/lib/python3.9/site-packages (from aiohttp<4.0.0,>=3.8.3->langchain) (21.2.0)\n",
      "Requirement already satisfied: charset-normalizer<4.0,>=2.0 in /usr/local/lib/python3.9/site-packages (from aiohttp<4.0.0,>=3.8.3->langchain) (3.1.0)\n",
      "Requirement already satisfied: multidict<7.0,>=4.5 in /usr/local/lib/python3.9/site-packages (from aiohttp<4.0.0,>=3.8.3->langchain) (6.0.4)\n",
      "Requirement already satisfied: yarl<2.0,>=1.0 in /usr/local/lib/python3.9/site-packages (from aiohttp<4.0.0,>=3.8.3->langchain) (1.9.2)\n",
      "Requirement already satisfied: frozenlist>=1.1.1 in /usr/local/lib/python3.9/site-packages (from aiohttp<4.0.0,>=3.8.3->langchain) (1.3.3)\n",
      "Requirement already satisfied: aiosignal>=1.1.2 in /usr/local/lib/python3.9/site-packages (from aiohttp<4.0.0,>=3.8.3->langchain) (1.3.1)\n",
      "Requirement already satisfied: marshmallow<4.0.0,>=3.3.0 in /usr/local/lib/python3.9/site-packages (from dataclasses-json<0.6.0,>=0.5.7->langchain) (3.19.0)\n",
      "Requirement already satisfied: marshmallow-enum<2.0.0,>=1.5.1 in /usr/local/lib/python3.9/site-packages (from dataclasses-json<0.6.0,>=0.5.7->langchain) (1.5.1)\n",
      "Requirement already satisfied: typing-inspect>=0.4.0 in /usr/local/lib/python3.9/site-packages (from dataclasses-json<0.6.0,>=0.5.7->langchain) (0.8.0)\n",
      "Requirement already satisfied: typing-extensions>=4.2.0 in /usr/local/lib/python3.9/site-packages (from pydantic<2,>=1->langchain) (4.5.0)\n",
      "Requirement already satisfied: idna<4,>=2.5 in /usr/local/lib/python3.9/site-packages (from requests<3,>=2->langchain) (2.10)\n",
      "Requirement already satisfied: urllib3<1.27,>=1.21.1 in /usr/local/lib/python3.9/site-packages (from requests<3,>=2->langchain) (1.26.7)\n",
      "Requirement already satisfied: certifi>=2017.4.17 in /usr/local/lib/python3.9/site-packages (from requests<3,>=2->langchain) (2021.10.8)\n",
      "Requirement already satisfied: greenlet!=0.4.17 in /usr/local/lib/python3.9/site-packages (from SQLAlchemy<3,>=1.4->langchain) (1.1.3.post0)\n",
      "Requirement already satisfied: packaging>=17.0 in /usr/local/lib/python3.9/site-packages (from marshmallow<4.0.0,>=3.3.0->dataclasses-json<0.6.0,>=0.5.7->langchain) (21.3)\n",
      "Requirement already satisfied: mypy-extensions>=0.3.0 in /usr/local/lib/python3.9/site-packages (from typing-inspect>=0.4.0->dataclasses-json<0.6.0,>=0.5.7->langchain) (1.0.0)\n",
      "Requirement already satisfied: pyparsing!=3.0.5,>=2.0.2 in /usr/local/lib/python3.9/site-packages (from packaging>=17.0->marshmallow<4.0.0,>=3.3.0->dataclasses-json<0.6.0,>=0.5.7->langchain) (3.0.6)\n",
      "\u001b[33mDEPRECATION: Configuring installation scheme with distutils config files is deprecated and will no longer work in the near future. If you are using a Homebrew or Linuxbrew Python, please see discussion at https://github.com/Homebrew/homebrew-core/issues/76621\u001b[0m\u001b[33m\n",
      "\u001b[0m"
     ]
    }
   ],
   "source": [
    "!pip install llama_index\n",
    "!pip install langchain"
   ]
  },
  {
   "attachments": {},
   "cell_type": "markdown",
   "metadata": {},
   "source": [
    "## import libraries and set api key for gpt-3"
   ]
  },
  {
   "cell_type": "code",
   "execution_count": 33,
   "metadata": {},
   "outputs": [],
   "source": [
    "import os\n",
    "import logging\n",
    "import sys\n",
    "\n",
    "logging.basicConfig(stream=sys.stdout, level=logging.INFO)\n",
    "logging.getLogger().addHandler(logging.StreamHandler(stream=sys.stdout))\n",
    "\n",
    "os.environ['OPENAI_API_KEY'] = \"your key here\""
   ]
  },
  {
   "attachments": {},
   "cell_type": "markdown",
   "metadata": {},
   "source": [
    "## load data and create index"
   ]
  },
  {
   "cell_type": "code",
   "execution_count": 42,
   "metadata": {},
   "outputs": [
    {
     "name": "stdout",
     "output_type": "stream",
     "text": [
      "[Document(text='<!DOCTYPE html>\\n\\n\\n<html lang=\"en\">\\n\\n\\n<head>\\n\\n\\n  <meta charset=\"utf-8\" />\\n\\n\\n  <title>KI-Facebook-Leak – Open-Source-Community fordert Tech-Konzerne heraus | Deepshore</title>\\n\\n\\n\\n\\n\\n  <meta http-equiv=\"X-UA-Compatible\" content=\"IE=edge\">\\n\\n\\n  <meta name=\"viewport\" content=\"width=device-width, initial-scale=1\">\\n\\n\\n      <meta name=\"generator\" content=\"GravCMS\" />\\n\\n\\n    <meta name=\"description\" content=\"May 2023 - Falk Borgmann KI-Facebook-Leak - Open-Source-Community fordert Tech-Konzerne heraus Beitrag Künstliche Intelligenz (KI) KI-Facebook-Leak - Open-Sou…\" />\\n\\n\\n    <meta property=\"og:title\" content=\"KI-Facebook-Leak – Open-Source-Community fordert Tech-Konzerne heraus | Deepshore\" />\\n\\n\\n    <meta property=\"og:description\" content=\"May 2023 - Falk Borgmann KI-Facebook-Leak - Open-Source-Community fordert Tech-Konzerne heraus Beitrag Künstliche Intelligenz (KI) KI-Facebook-Leak - Open-Sou…\" />\\n\\n\\n    <meta property=\"og:image\" content=\"https://deepshore.de/en/knowledge/ki-facebook-leak-open-source-community-fordert-tech-konzerne-heraus/seomagic-image\" />\\n\\n\\n    <meta name=\"title\" content=\"KI-Facebook-Leak – Open-Source-Community fordert Tech-Konzerne heraus | Deepshore\" />\\n\\n\\n    <meta name=\"keywords\" content=\"open-source-community,eine,dass,nicht,fordert,woche,ki-facebook-leak,für,auch,sich,\" />\\n\\n\\n    <meta name=\"image\" content=\"https://deepshore.de/en/knowledge/ki-facebook-leak-open-source-community-fordert-tech-konzerne-heraus/seomagic-image\" />\\n\\n\\n    <meta property=\"og:url\" content=\"https://deepshore.de/en/knowledge/ki-facebook-leak-open-source-community-fordert-tech-konzerne-heraus\" />\\n\\n\\n    <meta property=\"og:site_name\" content=\"Deepshore\" />\\n\\n\\n    <meta property=\"og:type\" content=\"article\" />\\n\\n\\n    <meta property=\"og:image:width\" content=\"1200\" />\\n\\n\\n    <meta property=\"og:image:height\" content=\"630\" />\\n\\n\\n    <meta property=\"og:image:secure\" content=\"https://deepshore.de/en/knowledge/ki-facebook-leak-open-source-community-fordert-tech-konzerne-heraus/seomagic-image\" />\\n\\n\\n    <meta name=\"twitter:card\" content=\"summary_large_image\" />\\n\\n\\n    <meta name=\"twitter:title\" content=\"KI-Facebook-Leak – Open-Source-Community fordert Tech-Konzerne heraus | Deepshore\" />\\n\\n\\n    <meta name=\"twitter:description\" content=\"May 2023 - Falk Borgmann KI-Facebook-Leak - Open-Source-Community fordert Tech-Konzerne heraus Beitrag Künstliche Intelligenz (KI) KI-Facebook-Leak - Open-Sou…\" />\\n\\n\\n    <meta name=\"twitter:image\" content=\"https://deepshore.de/en/knowledge/ki-facebook-leak-open-source-community-fordert-tech-konzerne-heraus/seomagic-image\" />\\n\\n\\n    <meta name=\"twitter:image:alt\" content=\"KI-Facebook-Leak – Open-Source-Community fordert Tech-Konzerne heraus | Deepshore\" />\\n\\n\\n\\n\\n\\n  <link rel=\"apple-touch-icon\" sizes=\"180x180\" href=\"/user/themes/deepshore/images/apple-touch-icon.png\">\\n\\n\\n  <link rel=\"icon\" type=\"image/png\" sizes=\"32x32\" href=\"/user/themes/deepshore/images/favicon-32x32.png\">\\n\\n\\n  <link rel=\"icon\" type=\"image/png\" sizes=\"16x16\" href=\"/user/themes/deepshore/images/favicon-16x16.png\">\\n\\n\\n  <link rel=\"manifest\" href=\"/user/themes/deepshore/site.webmanifest\">\\n\\n\\n  <link rel=\"canonical\" href=\"https://deepshore.de/en/knowledge/ki-facebook-leak-open-source-community-fordert-tech-konzerne-heraus\" />\\n\\n\\n\\n\\n\\n  \\n\\n\\n  \\n\\n\\n  <link href=\"/user/themes/deepshore/css/app.min.css\" type=\"text/css\" rel=\"stylesheet\">\\n\\n\\n<link href=\"/user/plugins/markdown-notices/assets/notices.css\" type=\"text/css\" rel=\"stylesheet\">\\n\\n\\n<link href=\"/user/plugins/form/assets/form-styles.css\" type=\"text/css\" rel=\"stylesheet\">\\n\\n\\n<link href=\"/user/plugins/youtube/css/youtube.css\" type=\"text/css\" rel=\"stylesheet\">\\n\\n\\n<link href=\"/user/plugins/login/css/login.css\" type=\"text/css\" rel=\"stylesheet\">\\n\\n\\n\\n\\n\\n  <script src=\"/user/themes/deepshore/js/app.js\"></script>\\n\\n\\n\\n\\n\\n</head>\\n\\n\\n\\n\\n\\n<body class=\"\">\\n\\n\\n<div id=\"app\">\\n\\n\\n\\n\\n\\n<nav class=\"navbar is-transparent is-fixed-top\" role=\"navigation\" aria-label=\"main navigation\" id=\"navbar\">\\n\\n\\n  <div class=\"column is-hidden-touch is-one-fifth\"></div>\\n\\n\\n  <div class=\"navbar-brand \">\\n\\n\\n    <a class=\"navbar-item\" href=\"/\" >\\n\\n\\n      <img src=\"/user/themes/deepshore/images/Deepshore_LogoMINI_bis1000px_transparentRGB.svg\" alt=\"Deepshore\"  id=\"logo-white\" alt=\"Deepshore Logo white\">\\n\\n\\n      <img src=\"/user/themes/deepshore/images/Deepshore_LogoMINI_bis1000px_RGB.svg\" alt=\"Deepshore\"  id=\"logo-dark\" hidden alt=\"Deepshore Logo\">\\n\\n\\n    </a>\\n\\n\\n    <a role=\"button\" class=\"navbar-burger burger\" aria-label=\"menu\" aria-expanded=\"false\" data-target=\"navbarBasicExample\">\\n\\n\\n      <span aria-hidden=\"true\"></span>\\n\\n\\n      <span aria-hidden=\"true\"></span>\\n\\n\\n      <span aria-hidden=\"true\"></span>\\n\\n\\n    </a>\\n\\n\\n  </div>\\n\\n\\n\\n\\n\\n      <div id=\"navbarBasicExample\" class=\"navbar-menu\">\\n\\n\\n      <div class=\"navbar-end\">\\n\\n\\n        \\n\\n\\n              <a class=\"navbar-item  is-uppercase \" href=\"/en\">\\n\\n\\n                Home \\n\\n\\n      </a>\\n\\n\\n            <a class=\"navbar-item  is-uppercase page-is-active\" href=\"/en/knowledge\">\\n\\n\\n                Wissen \\n\\n\\n      </a>\\n\\n\\n            <a class=\"navbar-item  is-uppercase \" href=\"/en/company\">\\n\\n\\n                Company \\n\\n\\n      </a>\\n\\n\\n  \\n\\n\\n        <a class=\"navbar-item is-uppercase is-hidden-desktop\" href=\"/en/company/contact-imprint-privacy\">\\n\\n\\n      Contact | Imprint | Privacy\\n\\n\\n    </a>\\n\\n\\n                  <a class=\"navbar-item is-uppercase\" href=\"/de/knowledge/ki-facebook-leak-open-source-community-fordert-tech-konzerne-heraus\">\\n\\n\\n              <i class=\"far fa-globe-europe\"></i>\\n\\n\\n            &nbsp;\\n\\n\\n      de\\n\\n\\n    </a>\\n\\n\\n    \\n\\n\\n      </div>\\n\\n\\n    </div>\\n\\n\\n    <div class=\"column is-hidden-touch is-one-fifth\"></div>\\n\\n\\n</nav>\\n\\n\\n\\n\\n\\n  <section class=\"hero px-2 padding-navbar is-primary is-bold is-fullheight\">\\n\\n\\n  <div class=\"columns\">\\n\\n\\n    <div class=\"column is-hidden-touch is-one-fifth\"></div>\\n\\n\\n    <div class=\"column\">\\n\\n\\n      <div class=\"box px-0 py-0\" style=\"overflow: hidden;\">\\n\\n\\n                <div class=\"columns mx-3 my-3\">\\n\\n\\n          <div class=\"column mb-6\">\\n\\n\\n           <p class=\"subtitle has-text-black is-family-monospace has-text-weight-medium\">\\n\\n\\n                            <time datetime=\"2020-1-1\">11. May 2023</time>\\n\\n\\n                            -\\n\\n\\n              <span>\\n\\n\\n                                  Falk Borgmann\\n\\n\\n                              </span>\\n\\n\\n            </p>\\n\\n\\n            <p class=\"title is-size-2-fullhd is-size-3-desktop is-size-4-touch is-uppercase has-text-black\">\\n\\n\\n              KI-Facebook-Leak – Open-Source-Community fordert Tech-Konzerne heraus\\n\\n\\n            </p>\\n\\n\\n            <!-- Show tags -->\\n\\n\\n  <div class=\"tags\">\\n\\n\\n    <a class=\"tag is-dark is-family-monospace is-uppercase\" href=\"/knowledge/category:Beitrag\">Beitrag</a>\\n\\n\\n                          <a class=\"tag is-light is-rounded is-family-monospace is-uppercase\" href=\"/knowledge/tag:Künstliche Intelligenz (KI)\">Künstliche Intelligenz (KI)</a>\\n\\n\\n            </div>\\n\\n\\n          </div>\\n\\n\\n                    <div class=\"column\">\\n\\n\\n            <img alt=\"\" src=\"/images/d/e/e/p/s/deepshore-ai-copyright-shutterstock-leremy-e2a25c82.jpg?g-7e2982f0\" />\\n\\n\\n          </div>\\n\\n\\n                  </div>\\n\\n\\n        <div class=\"content mx-3 my-3\">\\n\\n\\n          <p><strong>KI-Facebook-Leak – Open-Source-Community fordert Tech-Konzerne heraus</strong></p>\\n\\n\\n<p>Wer treibt in Sachen AI eigentlich wen vor sich her? Eine Ereigniskette rund um das erste eigene LLaMA (Large Language Model Meta AI) des Facebook-Konzerns Meta rückt diese Frage in ein völlig neues Licht. Im Februar 2023 veröffentlichte Meta mit dem LLaMA eine seiner wichtigsten zukünftigen Säulen. In verschiedenen Größen nutzbar und mit bis zu 65 Milliarden Parametern, ist das Meta-Modell zwar relativ klein. Es wurde aber aufwändig trainiert und ist somit trotz seiner geringen Größe verhältnismäßig leistungsstark. Meta veröffentlichte dazu sogar den Source Code ¬– die Architektur des Modells –, ohne jedoch dessen konkrete Ausprägung (Parameter) preiszugeben.<br />\\n\\n\\nNur etwa eine Woche nach der Veröffentlichung, am 3. März, passierte es dann: Eben diese für die Funktionsweise so kritischen Parameter tauchten als Leak im Internet auf. Was in den darauffolgenden vier bis fünf Wochen geschehen ist, blieb der breiten Öffentlichkeit zwar bisher verborgen – es lässt sich aber daran ermessen, wie sich die Open-Source-Community in der Folge mit Innovationen fast überschlug. Ein Blick auf die Ergebnisse lohnt sich, zeigen sie doch eindrucksvoll, dass die Entwicklungs-Labs der großen Tech-Konzerne der Schwarmintelligenz einer Open-Source-Community nicht automatisch überlegen sind.<br />\\n\\n\\nBestehende Lizenzbedingungen ermöglichen eine kommerzielle Nutzung des Leaks zunächst nicht und das Facebook-Modell hat sich bei genauerer Betrachtung auch eher als Beta-Version erwiesen – einige Schwächen inklusive. Durch die Art und Weise aber, wie die Entwicklungsfortschritte aus der Community auch dem Meta-Konzern in die Karten gespielt haben, würde es nicht verwundern, wenn der Leak am Ende sogar beabsichtigt gewesen wäre. Denn Meta könnte dank dieser Veröffentlichung seinen Einfluss auf das Open-Source-Ökosystem stark ausbauen, da theoretisch alle freien Innovationen, die auf LLaMa aufbauen, direkt durch Meta integrierbar wären. </p>\\n\\n\\n<p>Schon etwa eine Woche nach Verbreitung der Details wurde eine erste eigenständige Installation im öffentlichen Git Hub sichtbar, die zunächst einige Schwächen offenbarte. Bereits kurz darauf kam die nächste Publizierung (siehe Git Hub von Stanford Alpaca), die das Modell verbesserte und ein vom Original unabhängiges Feintuning erlaubte. Und nur einige Tage später veröffentlichte ein Entwickler die erste lauffähige Variante für ein MacBook.</p>\\n\\n\\n<p>Am 19. März optimierte eine Forschungskooperation das Modell erneut und erstellte erste Vergleichsversuche mit GPT-4. Wieder eine Woche später erblickte GPT4All das Licht der Welt – ein Ökosystem von Open-Source-Chatbots, die auf einer Sammlung sauberer Assistentendaten trainiert werden und jedem Nutzer frei zur Verfügung stehen. Nur einige Tage danach wurde mithilfe einer neuartigen PEFT-Technik (Parameter Efficient Fine Tuning) ein LLaMA-Adapter vorgestellt, der in kürzester Trainingszeit und mit nur relativ wenig lernbaren Parametern, das Modell weiter verbessert. Und schließlich startete Mitte April auch die OpenAssistant-Initiative ein eigenes Modell, das ChatGPT in Bezug auf die menschliche Präferenz sehr nahekommt.</p>\\n\\n\\n<p>Die Geschwindigkeit der Entwicklungen für Sprachmodelle aus dem Open-Source-Bereich ist derzeit atemberaubend. Man könnte sich quasi die Hälfte des Tages nur damit beschäftigen, bei den neuen Entwicklungen auf Augenhöhe zu bleiben.</p>\\n\\n\\n<p><strong>Der zuvor skizzierte Rückblick auf den März und April 2023 zeigt zwei Dinge:</strong></p>\\n\\n\\n<ol>\\n\\n\\n<li>\\n\\n\\n<p>Die Bedeutung von Open-Source nimmt im Bereich von Natural Language Processing (NLP) zu. Entgegen der weitverbreiteten Meinung vieler Experten denke ich nicht, dass es ein Axiom ist, dass US-Tech-Konzerne die alleinige Marktführerschaft im Bereich der KI-Sprachmodelle behalten werden. Die derzeitige Dynamik ist nicht annähernd mit der Open-Source-Community für z. B. Container oder Datenbanken von vor zehn Jahren zu vergleichen und es fällt zunehmend schwerer, bei der enormen Innovationsgeschwindigkeit am Ball zu bleiben.</p>\\n\\n\\n</li>\\n\\n\\n<li>\\n\\n\\n<p>Ich bin außerdem davon überzeugt, dass viele Berater und IT-Entscheider keine Vorstellung oder keine Kenntnisse über den Impact und den aktuellen Stand der Open-Source-Community besitzen. Von daher fließen diese nicht vorhandenen Informationen auch nicht in die Bewertung der Sachlage ein. </p>\\n\\n\\n</li>\\n\\n\\n</ol>\\n\\n\\n<p>Im Bereich der großen Sprachmodelle gibt es eine Konkurrenzsituation zwischen gewinnorientierten Tech-Unternehmen und einer aktiven und lebendigen Open-Source-Community. Die öffentliche Berichterstattung legt nahe, dass OpenAI mit ChatGPT auf der kommerziellen Seite die Nase deutlich vorn hat. Jedoch zeigen die letzten Wochen deutlich, dass die Open-Source-Community weit davon entfernt ist, in der Bedeutungslosigkeit zu verschwinden. Langfristig ist nicht zu erwarten, dass eine der beiden Seiten komplett dominieren wird. Beide haben weiterhin ihre Berechtigung und können voneinander profitieren. Für Entscheider in IT-Organisationen ist der Einsatz von selbst gehosteten Open-Source-Lösungen aber wesentlich interessanter geworden. Offen bleibt nur die Frage, ob diese Chance auch genutzt wird oder Unternehmen sich lieber bequem in den Schoß der Tech-Giganten und damit in deren Abhängigkeit begeben.</p>\\n\\n\\n        </div>\\n\\n\\n        <div class=\"mt-3\">\\n\\n\\n          <!-- Share -->\\n\\n\\n<div class=\"notification mb-0\">\\n\\n\\n  Share\\n\\n\\n  <div class=\"field has-addons\">\\n\\n\\n    <div class=\"control\">\\n\\n\\n      <a class=\"button\" onclick=\"copyToClipboard()\">\\n\\n\\n        <span class=\"icon\">\\n\\n\\n        <i class=\"fas fa-copy\"></i>\\n\\n\\n      </span>\\n\\n\\n      </a>\\n\\n\\n    </div>\\n\\n\\n    <p class=\"control is-expanded\">\\n\\n\\n      <input class=\"input is-family-monospace\" id=\"permalink\" type=\"text\" value=\"https://deepshore.de/en/knowledge/ki-facebook-leak-open-source-community-fordert-tech-konzerne-heraus\" readonly>\\n\\n\\n    </p>\\n\\n\\n  </div>\\n\\n\\n  <article class=\"message\" id=\"message\" style=\"display:none;\">\\n\\n\\n    <div class=\"message-header\">\\n\\n\\n      <p>Link copied to the clipboard.</p>\\n\\n\\n      <button class=\"delete\" aria-label=\"delete\"></button>\\n\\n\\n    </div>\\n\\n\\n  </article>\\n\\n\\n</div>\\n\\n\\n\\n\\n\\n<script>\\n\\n\\nfunction copyToClipboard() {\\n\\n\\n  /* Get the text field */\\n\\n\\n  var copyText = document.getElementById(\"permalink\");\\n\\n\\n\\n\\n\\n  /* Select the text field */\\n\\n\\n  copyText.select();\\n\\n\\n  copyText.setSelectionRange(0, 99999); /*For mobile devices*/\\n\\n\\n\\n\\n\\n  /* Copy the text inside the text field */\\n\\n\\n  document.execCommand(\"copy\");\\n\\n\\n\\n\\n\\n  /* Show Message */\\n\\n\\n  document.getElementById(\"message\").style.display = \"block\";\\n\\n\\n  setTimeout(function () {document.getElementById(\\'message\\').style.display=\\'none\\'}, 3000);\\n\\n\\n}\\n\\n\\n</script>        </div>\\n\\n\\n      </div>\\n\\n\\n      <div class=\"is-hidden-touch mb-6\"></div>\\n\\n\\n      <div class=\"is-hidden-desktop mb-3\"></div>\\n\\n\\n    </div>\\n\\n\\n    <div class=\"column is-hidden-touch is-one-fifth\"> </div>\\n\\n\\n  </div>\\n\\n\\n  <!-- Recommended items -->\\n\\n\\n\\n\\n\\n<div class=\"columns fullheight-columns is-multiline\">\\n\\n\\n  <div class=\"column is-hidden-touch is-one-fifth\"> </div>\\n\\n\\n  <div class=\"column is-three-fifths\">\\n\\n\\n    <p class=\"title is-size-3-fullhd is-size-4-desktop is-size-5-touch is-uppercase has-text-white\">\\n\\n\\n      More\\n\\n\\n    </p>\\n\\n\\n          <div class=\"mb-3\">\\n\\n\\n        <div class=\"card card-equal-height  is-horizontal \">\\n\\n\\n\\n\\n\\n  <div class=\"card-image\">\\n\\n\\n    <a href=\"/en/knowledge/2023-05-08\">\\n\\n\\n                        <figure class=\"image is-128x128\">\\n\\n\\n            <img data-src=\"/images/d/e/e/p/s/deepshorek6-featured-f8fbda1f.png?g-7e2982f0\" class=\"lazy\" alt=\" Article Image\">\\n\\n\\n          </figure>\\n\\n\\n                  </a>\\n\\n\\n  </div>\\n\\n\\n  <div class=\"card-stacked\">\\n\\n\\n\\n\\n\\n  <div class=\"card-content  py-2 \">\\n\\n\\n    <div class=\"media\">\\n\\n\\n      <div class=\"media-content\">\\n\\n\\n        <a href=\"/en/knowledge/2023-05-08\">\\n\\n\\n          <p class=\"title is-size-4-fullhd is-size-5-desktop is-size-7-touch is-uppercase has-text-black\">\\n\\n\\n                        Load testing as Day-2 operations for container solutions – using a simple, standardized framework\\n\\n\\n          </p>\\n\\n\\n        </a>\\n\\n\\n              </div>\\n\\n\\n    </div>\\n\\n\\n      </div>\\n\\n\\n    <footer class=\"card-footer\"  style=\"border: none;\" >\\n\\n\\n    <div class=\"tags card-content   \">\\n\\n\\n      <a class=\"tag is-dark is-family-monospace is-uppercase\" href=\"/knowledge/category:Article\">Article</a>\\n\\n\\n                                  <a class=\"tag is-light is-rounded is-family-monospace is-uppercase\" href=\"/knowledge/tag:Kubernetes\">Kubernetes</a>\\n\\n\\n                                          <a class=\"tag is-light is-rounded is-family-monospace is-uppercase\" href=\"/knowledge/tag:Deployment\">Deployment</a>\\n\\n\\n                                          <a class=\"tag is-light is-rounded is-family-monospace is-uppercase\" href=\"/knowledge/tag:Open-Source\">Open-Source</a>\\n\\n\\n              \\n\\n\\n    </div>\\n\\n\\n  </footer>\\n\\n\\n    </div>\\n\\n\\n</div>\\n\\n\\n      </div>\\n\\n\\n          <div class=\"mb-3\">\\n\\n\\n        <div class=\"card card-equal-height  is-horizontal \">\\n\\n\\n\\n\\n\\n  <div class=\"card-image\">\\n\\n\\n    <a href=\"/en/knowledge/ki-facebook-leak-open-source-community-fordert-tech-konzerne-heraus\">\\n\\n\\n                        <figure class=\"image is-128x128\">\\n\\n\\n            <img data-src=\"/images/d/e/e/p/s/deepshore-ai-copyright-shutterstock-leremy-68998e98.jpg?g-7e2982f0\" class=\"lazy\" alt=\" Article Image\">\\n\\n\\n          </figure>\\n\\n\\n                  </a>\\n\\n\\n  </div>\\n\\n\\n  <div class=\"card-stacked\">\\n\\n\\n\\n\\n\\n  <div class=\"card-content  py-2 \">\\n\\n\\n    <div class=\"media\">\\n\\n\\n      <div class=\"media-content\">\\n\\n\\n        <a href=\"/en/knowledge/ki-facebook-leak-open-source-community-fordert-tech-konzerne-heraus\">\\n\\n\\n          <p class=\"title is-size-4-fullhd is-size-5-desktop is-size-7-touch is-uppercase has-text-black\">\\n\\n\\n                        KI-Facebook-Leak – Open-Source-Community fordert Tech-Konzerne heraus\\n\\n\\n          </p>\\n\\n\\n        </a>\\n\\n\\n              </div>\\n\\n\\n    </div>\\n\\n\\n      </div>\\n\\n\\n    <footer class=\"card-footer\"  style=\"border: none;\" >\\n\\n\\n    <div class=\"tags card-content   \">\\n\\n\\n      <a class=\"tag is-dark is-family-monospace is-uppercase\" href=\"/knowledge/category:Beitrag\">Beitrag</a>\\n\\n\\n                                  <a class=\"tag is-light is-rounded is-family-monospace is-uppercase\" href=\"/knowledge/tag:Künstliche Intelligenz (KI)\">Künstliche Intelligenz (KI)</a>\\n\\n\\n              \\n\\n\\n    </div>\\n\\n\\n  </footer>\\n\\n\\n    </div>\\n\\n\\n</div>\\n\\n\\n      </div>\\n\\n\\n          <div class=\"mb-3\">\\n\\n\\n        <div class=\"card card-equal-height  is-horizontal \">\\n\\n\\n\\n\\n\\n  <div class=\"card-image\">\\n\\n\\n    <a href=\"/en/knowledge/kafka-consistency-vs-delivery-guarantees\">\\n\\n\\n                        <figure class=\"image is-128x128\">\\n\\n\\n            <img data-src=\"/images/2/3/-/7/6/23-7679-kafkabasicsdeliveryguarantees---03-titel-dd0e5886.jpg?g-7e2982f0\" class=\"lazy\" alt=\" Article Image\">\\n\\n\\n          </figure>\\n\\n\\n                  </a>\\n\\n\\n  </div>\\n\\n\\n  <div class=\"card-stacked\">\\n\\n\\n\\n\\n\\n  <div class=\"card-content  py-2 \">\\n\\n\\n    <div class=\"media\">\\n\\n\\n      <div class=\"media-content\">\\n\\n\\n        <a href=\"/en/knowledge/kafka-consistency-vs-delivery-guarantees\">\\n\\n\\n          <p class=\"title is-size-4-fullhd is-size-5-desktop is-size-7-touch is-uppercase has-text-black\">\\n\\n\\n                        Kafka: CONSISTENCY VS. DELIVERY GUARANTEES\\n\\n\\n          </p>\\n\\n\\n        </a>\\n\\n\\n              </div>\\n\\n\\n    </div>\\n\\n\\n      </div>\\n\\n\\n    <footer class=\"card-footer\"  style=\"border: none;\" >\\n\\n\\n    <div class=\"tags card-content   \">\\n\\n\\n      <a class=\"tag is-dark is-family-monospace is-uppercase\" href=\"/knowledge/category:Beitrag\">Beitrag</a>\\n\\n\\n                                  <a class=\"tag is-light is-rounded is-family-monospace is-uppercase\" href=\"/knowledge/tag:Verteilte Systeme\">Verteilte Systeme</a>\\n\\n\\n                                          <a class=\"tag is-light is-rounded is-family-monospace is-uppercase\" href=\"/knowledge/tag:Big Data\">Big Data</a>\\n\\n\\n                                          <a class=\"tag is-light is-rounded is-family-monospace is-uppercase\" href=\"/knowledge/tag:Kafka\">Kafka</a>\\n\\n\\n              \\n\\n\\n    </div>\\n\\n\\n  </footer>\\n\\n\\n    </div>\\n\\n\\n</div>\\n\\n\\n      </div>\\n\\n\\n        <a class=\"title is-size-3-fullhd is-size-4-desktop is-size-5-touch is-uppercase has-text-white\" href=\"/knowledge\">\\n\\n\\n      Even more..\\n\\n\\n    </a>\\n\\n\\n  </div>\\n\\n\\n  <div class=\"column is-hidden-touch is-one-fifth\"> </div>\\n\\n\\n</div>  <div class=\"mb-6\"></div>\\n\\n\\n</div>\\n\\n\\n\\n\\n\\n<script>\\n\\n\\n// Show share\\n\\n\\nfunction showShareBox() {\\n\\n\\n  document.getElementById(\"share-box\").style.display = \"block\";\\n\\n\\n}\\n\\n\\n\\n\\n\\nfunction copyToClipboard() {\\n\\n\\n  /* Get the text field */\\n\\n\\n  var copyText = document.getElementById(\"permalink\");\\n\\n\\n\\n\\n\\n  /* Select the text field */\\n\\n\\n  copyText.select();\\n\\n\\n  copyText.setSelectionRange(0, 99999); /*For mobile devices*/\\n\\n\\n</script>\\n\\n\\n\\n\\n\\n\\n\\n\\n  <!-- Page footer -->\\n\\n\\n<footer class=\"footer\">\\n\\n\\n  <div class=\"content has-text-centered\">\\n\\n\\n    <p>\\n\\n\\n      <strong>Deepshore GmbH</strong><br>\\n\\n\\n      <span>Van-der-Smissen-Straße 9, 22767 Hamburg</span><br>\\n\\n\\n      <span>Tel +49 40 46664 296</span>\\n\\n\\n    </p>\\n\\n\\n    <p>\\n\\n\\n      <a class=\"has-text-black\" href=\"/en/company/contact-imprint-privacy\">Imprint</a> |\\n\\n\\n      <a class=\"has-text-black\" href=\"/en/company/contact-imprint-privacy\">Contact</a> |\\n\\n\\n      <a class=\"has-text-black\" href=\"/en/company/contact-imprint-privacy\">Privacy</a> |\\n\\n\\n      <a class=\"has-text-black\" href=\"/en/company/conditions\">Conditions</a> \\n\\n\\n    </p>\\n\\n\\n  </div>\\n\\n\\n</footer>\\n\\n\\n\\n\\n\\n  \\n\\n\\n</div>\\n\\n\\n</body>\\n\\n\\n</html>\\n', doc_id='ea2cbe84-bd48-404b-aa81-25d8231510bc', embedding=None, doc_hash='a822e4c564ebbb6fddd25f75125b218bc212d7ee7e57b1f7ad7f969576291708', extra_info={'Source': 'https://deepshore.de/en/knowledge/ki-facebook-leak-open-source-community-fordert-tech-konzerne-heraus'})]\n"
     ]
    }
   ],
   "source": [
    "from llama_index import download_loader\n",
    "\n",
    "RemoteReader = download_loader(\"RemoteReader\")\n",
    "loader = RemoteReader()\n",
    "documents = loader.load_data(url=\"https://deepshore.de/en/knowledge/ki-facebook-leak-open-source-community-fordert-tech-konzerne-heraus\")\n",
    "print(documents)\n"
   ]
  },
  {
   "cell_type": "code",
   "execution_count": 28,
   "metadata": {},
   "outputs": [],
   "source": [
    "from llama_index import SimpleDirectoryReader\n",
    "\n",
    "documents = SimpleDirectoryReader('./data').load_data()\n"
   ]
  },
  {
   "cell_type": "code",
   "execution_count": 40,
   "metadata": {},
   "outputs": [
    {
     "name": "stdout",
     "output_type": "stream",
     "text": [
      "INFO:llama_index.token_counter.token_counter:> [build_index_from_nodes] Total LLM token usage: 0 tokens\n",
      "> [build_index_from_nodes] Total LLM token usage: 0 tokens\n",
      "> [build_index_from_nodes] Total LLM token usage: 0 tokens\n",
      "INFO:llama_index.token_counter.token_counter:> [build_index_from_nodes] Total embedding token usage: 10328 tokens\n",
      "> [build_index_from_nodes] Total embedding token usage: 10328 tokens\n",
      "> [build_index_from_nodes] Total embedding token usage: 10328 tokens\n"
     ]
    }
   ],
   "source": [
    "from llama_index import GPTVectorStoreIndex\n",
    "index = GPTVectorStoreIndex.from_documents(documents)\n"
   ]
  },
  {
   "cell_type": "code",
   "execution_count": 43,
   "metadata": {},
   "outputs": [
    {
     "name": "stdout",
     "output_type": "stream",
     "text": [
      "INFO:llama_index.token_counter.token_counter:> [retrieve] Total LLM token usage: 0 tokens\n",
      "> [retrieve] Total LLM token usage: 0 tokens\n",
      "> [retrieve] Total LLM token usage: 0 tokens\n",
      "INFO:llama_index.token_counter.token_counter:> [retrieve] Total embedding token usage: 23 tokens\n",
      "> [retrieve] Total embedding token usage: 23 tokens\n",
      "> [retrieve] Total embedding token usage: 23 tokens\n",
      "INFO:llama_index.token_counter.token_counter:> [get_response] Total LLM token usage: 2255 tokens\n",
      "> [get_response] Total LLM token usage: 2255 tokens\n",
      "> [get_response] Total LLM token usage: 2255 tokens\n",
      "INFO:llama_index.token_counter.token_counter:> [get_response] Total embedding token usage: 0 tokens\n",
      "> [get_response] Total embedding token usage: 0 tokens\n",
      "> [get_response] Total embedding token usage: 0 tokens\n"
     ]
    },
    {
     "data": {
      "text/plain": [
       "Response(response='\\nOpen-Source hat im Bereich von Natural Language Processing (NLP) eine wichtige Bedeutung, da es Entwicklern ermöglicht, auf eine breite Palette an Tools und Ressourcen zuzugreifen, die sie für die Entwicklung von NLP-Anwendungen verwenden können. Open-Source-Software ermöglicht es Entwicklern auch, die Software zu ändern und anzupassen, um sie an ihre spezifischen Anforderungen anzupassen. Open-Source-Software kann auch dazu beitragen, die Kosten für die Entwicklung von NLP-Anwendungen zu senken.', source_nodes=[NodeWithScore(node=Node(text='class=\"lazy\" alt=\" Article Image\">\\n\\n\\n          </figure>\\n\\n\\n                  </a>\\n\\n\\n  </div>\\n\\n\\n  <div class=\"card-stacked\">\\n\\n\\n\\n\\n\\n  <div class=\"card-content  py-2 \">\\n\\n\\n    <div class=\"media\">\\n\\n\\n      <div class=\"media-content\">\\n\\n\\n        <a href=\"/en/knowledge/ki-facebook-leak-open-source-community-fordert-tech-konzerne-heraus\">\\n\\n\\n          <p class=\"title is-size-4-fullhd is-size-5-desktop is-size-7-touch is-uppercase has-text-black\">\\n\\n\\n                        KI-Facebook-Leak – Open-Source-Community fordert Tech-Konzerne heraus\\n\\n\\n          </p>\\n\\n\\n        </a>\\n\\n\\n              </div>\\n\\n\\n    </div>\\n\\n\\n      </div>\\n\\n\\n    <footer class=\"card-footer\"  style=\"border: none;\" >\\n\\n\\n    <div class=\"tags card-content   \">\\n\\n\\n      <a class=\"tag is-dark is-family-monospace is-uppercase\" href=\"/knowledge/category:Beitrag\">Beitrag</a>\\n\\n\\n                                  <a class=\"tag is-light is-rounded is-family-monospace is-uppercase\" href=\"/knowledge/tag:Künstliche Intelligenz (KI)\">Künstliche Intelligenz (KI)</a>\\n\\n\\n              \\n\\n\\n    </div>\\n\\n\\n  </footer>\\n\\n\\n    </div>\\n\\n\\n</div>\\n\\n\\n      </div>\\n\\n\\n          <div class=\"mb-3\">\\n\\n\\n        <div class=\"card card-equal-height  is-horizontal \">\\n\\n\\n\\n\\n\\n  <div class=\"card-image\">\\n\\n\\n    <a href=\"/en/knowledge/kafka-consistency-vs-delivery-guarantees\">\\n\\n\\n                        <figure class=\"image is-128x128\">\\n\\n\\n            <img data-src=\"/images/2/3/-/7/6/23-7679-kafkabasicsdeliveryguarantees---03-titel-dd0e5886.jpg?g-7e2982f0\" class=\"lazy\" alt=\" Article Image\">\\n\\n\\n          </figure>\\n\\n\\n                  </a>\\n\\n\\n  </div>\\n\\n\\n  <div class=\"card-stacked\">\\n\\n\\n\\n\\n\\n  <div class=\"card-content  py-2 \">\\n\\n\\n    <div class=\"media\">\\n\\n\\n      <div class=\"media-content\">\\n\\n\\n        <a href=\"/en/knowledge/kafka-consistency-vs-delivery-guarantees\">\\n\\n\\n          <p class=\"title is-size-4-fullhd is-size-5-desktop is-size-7-touch is-uppercase has-text-black\">\\n\\n\\n                        Kafka: CONSISTENCY VS. DELIVERY GUARANTEES\\n\\n\\n          </p>\\n\\n\\n        </a>\\n\\n\\n             ', doc_id='0fa52538-7a6b-4954-8b61-3656276591f8', embedding=None, doc_hash='c93c0278ad56f5f46496d1fe368dbf77b0b30d4f110850f4600a9c2aadea111a', extra_info={'Source': 'https://deepshore.de/en/knowledge/2023-05-08'}, node_info={'start': 20822, 'end': 22825}, relationships={<DocumentRelationship.SOURCE: '1'>: '8aa45f79-ee4c-4777-9f32-ee4f9d4923a4', <DocumentRelationship.PREVIOUS: '2'>: '6f07f829-a3a4-4a3d-95b4-93b3a0e28c03', <DocumentRelationship.NEXT: '3'>: 'a2465b88-74a1-4f7c-8faf-42eecaf0c273'}), score=0.7930456807462214), NodeWithScore(node=Node(text='Wissen \\n\\n\\n      </a>\\n\\n\\n            <a class=\"navbar-item  is-uppercase \" href=\"/en/company\">\\n\\n\\n                Company \\n\\n\\n      </a>\\n\\n\\n  \\n\\n\\n        <a class=\"navbar-item is-uppercase is-hidden-desktop\" href=\"/en/company/contact-imprint-privacy\">\\n\\n\\n      Contact | Imprint | Privacy\\n\\n\\n    </a>\\n\\n\\n                  <a class=\"navbar-item is-uppercase\" href=\"/de/knowledge/2023-05-08\">\\n\\n\\n              <i class=\"far fa-globe-europe\"></i>\\n\\n\\n            &nbsp;\\n\\n\\n      de\\n\\n\\n    </a>\\n\\n\\n    \\n\\n\\n      </div>\\n\\n\\n    </div>\\n\\n\\n    <div class=\"column is-hidden-touch is-one-fifth\"></div>\\n\\n\\n</nav>\\n\\n\\n\\n\\n\\n  <section class=\"hero px-2 padding-navbar is-primary is-bold is-fullheight\">\\n\\n\\n  <div class=\"columns\">\\n\\n\\n    <div class=\"column is-hidden-touch is-one-fifth\"></div>\\n\\n\\n    <div class=\"column\">\\n\\n\\n      <div class=\"box px-0 py-0\" style=\"overflow: hidden;\">\\n\\n\\n                <div class=\"columns mx-3 my-3\">\\n\\n\\n          <div class=\"column mb-6\">\\n\\n\\n           <p class=\"subtitle has-text-black is-family-monospace has-text-weight-medium\">\\n\\n\\n                            <time datetime=\"2020-1-1\">15. May 2023</time>\\n\\n\\n                            -\\n\\n\\n              <span>\\n\\n\\n                                  Olaf von Voss, Ferdi Güran\\n\\n\\n                              </span>\\n\\n\\n            </p>\\n\\n\\n            <p class=\"title is-size-2-fullhd is-size-3-desktop is-size-4-touch is-uppercase has-text-black\">\\n\\n\\n              Load testing as Day-2 operations for container solutions – using a simple, standardized framework\\n\\n\\n            </p>\\n\\n\\n            <!-- Show tags -->\\n\\n\\n  <div class=\"tags\">\\n\\n\\n    <a class=\"tag is-dark is-family-monospace is-uppercase\" href=\"/knowledge/category:Article\">Article</a>\\n\\n\\n                          <a class=\"tag is-light is-rounded is-family-monospace is-uppercase\" href=\"/knowledge/tag:Kubernetes\">Kubernetes</a>\\n\\n\\n                                <a class=\"tag is-light is-rounded is-family-monospace is-uppercase\" href=\"/knowledge/tag:Deployment\">Deployment</a>\\n\\n\\n                   ', doc_id='fa6692b4-5f90-45bf-9df4-4edf591b9ec6', embedding=None, doc_hash='2289e3bddb8044074e9a57e699b6e07306affece0f9f650cfb4396b822b7da3f', extra_info={'Source': 'https://deepshore.de/en/knowledge/2023-05-08'}, node_info={'start': 4971, 'end': 6971}, relationships={<DocumentRelationship.SOURCE: '1'>: '8aa45f79-ee4c-4777-9f32-ee4f9d4923a4', <DocumentRelationship.PREVIOUS: '2'>: 'dd6ffe69-eb64-45a9-b1d4-5cf93a34c303', <DocumentRelationship.NEXT: '3'>: '7d6510f8-b899-485d-8570-8477517b65db'}), score=0.7680082696006251)], extra_info={'0fa52538-7a6b-4954-8b61-3656276591f8': {'Source': 'https://deepshore.de/en/knowledge/2023-05-08'}, 'fa6692b4-5f90-45bf-9df4-4edf591b9ec6': {'Source': 'https://deepshore.de/en/knowledge/2023-05-08'}})"
      ]
     },
     "execution_count": 43,
     "metadata": {},
     "output_type": "execute_result"
    }
   ],
   "source": [
    "query_engine = index.as_query_engine()\n",
    "query_engine.query(\"Welche Bedeutung hat Open-Source im Bereich von Natural Language Processing (NLP) ?\")"
   ]
  }
 ],
 "metadata": {
  "kernelspec": {
   "display_name": "Python 3",
   "language": "python",
   "name": "python3"
  },
  "language_info": {
   "codemirror_mode": {
    "name": "ipython",
    "version": 3
   },
   "file_extension": ".py",
   "mimetype": "text/x-python",
   "name": "python",
   "nbconvert_exporter": "python",
   "pygments_lexer": "ipython3",
   "version": "3.9.16"
  },
  "orig_nbformat": 4
 },
 "nbformat": 4,
 "nbformat_minor": 2
}
